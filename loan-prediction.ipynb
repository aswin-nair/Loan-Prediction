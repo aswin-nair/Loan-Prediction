{
 "cells": [
  {
   "cell_type": "code",
   "execution_count": 1,
   "id": "resistant-evans",
   "metadata": {
    "execution": {
     "iopub.execute_input": "2021-06-21T05:16:11.391805Z",
     "iopub.status.busy": "2021-06-21T05:16:11.390579Z",
     "iopub.status.idle": "2021-06-21T05:16:12.376981Z",
     "shell.execute_reply": "2021-06-21T05:16:12.375975Z",
     "shell.execute_reply.started": "2021-06-21T05:14:53.999157Z"
    },
    "papermill": {
     "duration": 1.073386,
     "end_time": "2021-06-21T05:16:12.377189",
     "exception": false,
     "start_time": "2021-06-21T05:16:11.303803",
     "status": "completed"
    },
    "tags": []
   },
   "outputs": [],
   "source": [
    "from time import time\n",
    "import pandas as pd\n",
    "import numpy as np\n",
    "import matplotlib as plt\n",
    "import seaborn as sns\n",
    "sns.set_style('dark')\n",
    "import matplotlib.pyplot as plt\n",
    "%matplotlib inline\n",
    "\n",
    "df = pd.read_csv(\"train.csv\")\n",
    "df1 = pd.read_csv(\"test.csv\")"
   ]
  },
  {
   "cell_type": "code",
   "execution_count": 2,
   "id": "d9d24bb7",
   "metadata": {},
   "outputs": [
    {
     "data": {
      "text/plain": [
       "(614, 13)"
      ]
     },
     "execution_count": 2,
     "metadata": {},
     "output_type": "execute_result"
    }
   ],
   "source": [
    "start = time()\n",
    "df.shape"
   ]
  },
  {
   "cell_type": "code",
   "execution_count": 3,
   "id": "likely-communications",
   "metadata": {
    "execution": {
     "iopub.execute_input": "2021-06-21T05:16:12.581415Z",
     "iopub.status.busy": "2021-06-21T05:16:12.580530Z",
     "iopub.status.idle": "2021-06-21T05:16:12.583172Z",
     "shell.execute_reply": "2021-06-21T05:16:12.583645Z",
     "shell.execute_reply.started": "2021-06-21T05:14:55.108823Z"
    },
    "papermill": {
     "duration": 0.102371,
     "end_time": "2021-06-21T05:16:12.583827",
     "exception": false,
     "start_time": "2021-06-21T05:16:12.481456",
     "status": "completed"
    },
    "tags": []
   },
   "outputs": [],
   "source": [
    "train_original=df.copy()\n",
    "test_original=df1.copy()"
   ]
  },
  {
   "cell_type": "code",
   "execution_count": 4,
   "id": "shared-indonesian",
   "metadata": {
    "execution": {
     "iopub.execute_input": "2021-06-21T05:16:12.758699Z",
     "iopub.status.busy": "2021-06-21T05:16:12.757567Z",
     "iopub.status.idle": "2021-06-21T05:16:12.803392Z",
     "shell.execute_reply": "2021-06-21T05:16:12.803899Z",
     "shell.execute_reply.started": "2021-06-21T05:14:55.116449Z"
    },
    "papermill": {
     "duration": 0.138676,
     "end_time": "2021-06-21T05:16:12.804073",
     "exception": false,
     "start_time": "2021-06-21T05:16:12.665397",
     "status": "completed"
    },
    "tags": []
   },
   "outputs": [
    {
     "data": {
      "text/html": [
       "<div>\n",
       "<style scoped>\n",
       "    .dataframe tbody tr th:only-of-type {\n",
       "        vertical-align: middle;\n",
       "    }\n",
       "\n",
       "    .dataframe tbody tr th {\n",
       "        vertical-align: top;\n",
       "    }\n",
       "\n",
       "    .dataframe thead th {\n",
       "        text-align: right;\n",
       "    }\n",
       "</style>\n",
       "<table border=\"1\" class=\"dataframe\">\n",
       "  <thead>\n",
       "    <tr style=\"text-align: right;\">\n",
       "      <th></th>\n",
       "      <th>Loan_ID</th>\n",
       "      <th>Gender</th>\n",
       "      <th>Married</th>\n",
       "      <th>Dependents</th>\n",
       "      <th>Education</th>\n",
       "      <th>Self_Employed</th>\n",
       "      <th>ApplicantIncome</th>\n",
       "      <th>CoapplicantIncome</th>\n",
       "      <th>LoanAmount</th>\n",
       "      <th>Loan_Amount_Term</th>\n",
       "      <th>Credit_History</th>\n",
       "      <th>Property_Area</th>\n",
       "      <th>Loan_Status</th>\n",
       "    </tr>\n",
       "  </thead>\n",
       "  <tbody>\n",
       "    <tr>\n",
       "      <th>0</th>\n",
       "      <td>LP001002</td>\n",
       "      <td>Male</td>\n",
       "      <td>No</td>\n",
       "      <td>0</td>\n",
       "      <td>Graduate</td>\n",
       "      <td>No</td>\n",
       "      <td>5849</td>\n",
       "      <td>0.0</td>\n",
       "      <td>NaN</td>\n",
       "      <td>360.0</td>\n",
       "      <td>1.0</td>\n",
       "      <td>Urban</td>\n",
       "      <td>Y</td>\n",
       "    </tr>\n",
       "    <tr>\n",
       "      <th>1</th>\n",
       "      <td>LP001003</td>\n",
       "      <td>Male</td>\n",
       "      <td>Yes</td>\n",
       "      <td>1</td>\n",
       "      <td>Graduate</td>\n",
       "      <td>No</td>\n",
       "      <td>4583</td>\n",
       "      <td>1508.0</td>\n",
       "      <td>128.0</td>\n",
       "      <td>360.0</td>\n",
       "      <td>1.0</td>\n",
       "      <td>Rural</td>\n",
       "      <td>N</td>\n",
       "    </tr>\n",
       "    <tr>\n",
       "      <th>2</th>\n",
       "      <td>LP001005</td>\n",
       "      <td>Male</td>\n",
       "      <td>Yes</td>\n",
       "      <td>0</td>\n",
       "      <td>Graduate</td>\n",
       "      <td>Yes</td>\n",
       "      <td>3000</td>\n",
       "      <td>0.0</td>\n",
       "      <td>66.0</td>\n",
       "      <td>360.0</td>\n",
       "      <td>1.0</td>\n",
       "      <td>Urban</td>\n",
       "      <td>Y</td>\n",
       "    </tr>\n",
       "    <tr>\n",
       "      <th>3</th>\n",
       "      <td>LP001006</td>\n",
       "      <td>Male</td>\n",
       "      <td>Yes</td>\n",
       "      <td>0</td>\n",
       "      <td>Not Graduate</td>\n",
       "      <td>No</td>\n",
       "      <td>2583</td>\n",
       "      <td>2358.0</td>\n",
       "      <td>120.0</td>\n",
       "      <td>360.0</td>\n",
       "      <td>1.0</td>\n",
       "      <td>Urban</td>\n",
       "      <td>Y</td>\n",
       "    </tr>\n",
       "    <tr>\n",
       "      <th>4</th>\n",
       "      <td>LP001008</td>\n",
       "      <td>Male</td>\n",
       "      <td>No</td>\n",
       "      <td>0</td>\n",
       "      <td>Graduate</td>\n",
       "      <td>No</td>\n",
       "      <td>6000</td>\n",
       "      <td>0.0</td>\n",
       "      <td>141.0</td>\n",
       "      <td>360.0</td>\n",
       "      <td>1.0</td>\n",
       "      <td>Urban</td>\n",
       "      <td>Y</td>\n",
       "    </tr>\n",
       "    <tr>\n",
       "      <th>5</th>\n",
       "      <td>LP001011</td>\n",
       "      <td>Male</td>\n",
       "      <td>Yes</td>\n",
       "      <td>2</td>\n",
       "      <td>Graduate</td>\n",
       "      <td>Yes</td>\n",
       "      <td>5417</td>\n",
       "      <td>4196.0</td>\n",
       "      <td>267.0</td>\n",
       "      <td>360.0</td>\n",
       "      <td>1.0</td>\n",
       "      <td>Urban</td>\n",
       "      <td>Y</td>\n",
       "    </tr>\n",
       "    <tr>\n",
       "      <th>6</th>\n",
       "      <td>LP001013</td>\n",
       "      <td>Male</td>\n",
       "      <td>Yes</td>\n",
       "      <td>0</td>\n",
       "      <td>Not Graduate</td>\n",
       "      <td>No</td>\n",
       "      <td>2333</td>\n",
       "      <td>1516.0</td>\n",
       "      <td>95.0</td>\n",
       "      <td>360.0</td>\n",
       "      <td>1.0</td>\n",
       "      <td>Urban</td>\n",
       "      <td>Y</td>\n",
       "    </tr>\n",
       "    <tr>\n",
       "      <th>7</th>\n",
       "      <td>LP001014</td>\n",
       "      <td>Male</td>\n",
       "      <td>Yes</td>\n",
       "      <td>3+</td>\n",
       "      <td>Graduate</td>\n",
       "      <td>No</td>\n",
       "      <td>3036</td>\n",
       "      <td>2504.0</td>\n",
       "      <td>158.0</td>\n",
       "      <td>360.0</td>\n",
       "      <td>0.0</td>\n",
       "      <td>Semiurban</td>\n",
       "      <td>N</td>\n",
       "    </tr>\n",
       "    <tr>\n",
       "      <th>8</th>\n",
       "      <td>LP001018</td>\n",
       "      <td>Male</td>\n",
       "      <td>Yes</td>\n",
       "      <td>2</td>\n",
       "      <td>Graduate</td>\n",
       "      <td>No</td>\n",
       "      <td>4006</td>\n",
       "      <td>1526.0</td>\n",
       "      <td>168.0</td>\n",
       "      <td>360.0</td>\n",
       "      <td>1.0</td>\n",
       "      <td>Urban</td>\n",
       "      <td>Y</td>\n",
       "    </tr>\n",
       "    <tr>\n",
       "      <th>9</th>\n",
       "      <td>LP001020</td>\n",
       "      <td>Male</td>\n",
       "      <td>Yes</td>\n",
       "      <td>1</td>\n",
       "      <td>Graduate</td>\n",
       "      <td>No</td>\n",
       "      <td>12841</td>\n",
       "      <td>10968.0</td>\n",
       "      <td>349.0</td>\n",
       "      <td>360.0</td>\n",
       "      <td>1.0</td>\n",
       "      <td>Semiurban</td>\n",
       "      <td>N</td>\n",
       "    </tr>\n",
       "  </tbody>\n",
       "</table>\n",
       "</div>"
      ],
      "text/plain": [
       "    Loan_ID Gender Married Dependents     Education Self_Employed  \\\n",
       "0  LP001002   Male      No          0      Graduate            No   \n",
       "1  LP001003   Male     Yes          1      Graduate            No   \n",
       "2  LP001005   Male     Yes          0      Graduate           Yes   \n",
       "3  LP001006   Male     Yes          0  Not Graduate            No   \n",
       "4  LP001008   Male      No          0      Graduate            No   \n",
       "5  LP001011   Male     Yes          2      Graduate           Yes   \n",
       "6  LP001013   Male     Yes          0  Not Graduate            No   \n",
       "7  LP001014   Male     Yes         3+      Graduate            No   \n",
       "8  LP001018   Male     Yes          2      Graduate            No   \n",
       "9  LP001020   Male     Yes          1      Graduate            No   \n",
       "\n",
       "   ApplicantIncome  CoapplicantIncome  LoanAmount  Loan_Amount_Term  \\\n",
       "0             5849                0.0         NaN             360.0   \n",
       "1             4583             1508.0       128.0             360.0   \n",
       "2             3000                0.0        66.0             360.0   \n",
       "3             2583             2358.0       120.0             360.0   \n",
       "4             6000                0.0       141.0             360.0   \n",
       "5             5417             4196.0       267.0             360.0   \n",
       "6             2333             1516.0        95.0             360.0   \n",
       "7             3036             2504.0       158.0             360.0   \n",
       "8             4006             1526.0       168.0             360.0   \n",
       "9            12841            10968.0       349.0             360.0   \n",
       "\n",
       "   Credit_History Property_Area Loan_Status  \n",
       "0             1.0         Urban           Y  \n",
       "1             1.0         Rural           N  \n",
       "2             1.0         Urban           Y  \n",
       "3             1.0         Urban           Y  \n",
       "4             1.0         Urban           Y  \n",
       "5             1.0         Urban           Y  \n",
       "6             1.0         Urban           Y  \n",
       "7             0.0     Semiurban           N  \n",
       "8             1.0         Urban           Y  \n",
       "9             1.0     Semiurban           N  "
      ]
     },
     "execution_count": 4,
     "metadata": {},
     "output_type": "execute_result"
    }
   ],
   "source": [
    "df.head(10)"
   ]
  },
  {
   "cell_type": "code",
   "execution_count": 5,
   "id": "ignored-extension",
   "metadata": {
    "execution": {
     "iopub.execute_input": "2021-06-21T05:16:12.976539Z",
     "iopub.status.busy": "2021-06-21T05:16:12.975539Z",
     "iopub.status.idle": "2021-06-21T05:16:13.004226Z",
     "shell.execute_reply": "2021-06-21T05:16:13.004806Z",
     "shell.execute_reply.started": "2021-06-21T05:14:55.173320Z"
    },
    "papermill": {
     "duration": 0.115958,
     "end_time": "2021-06-21T05:16:13.004981",
     "exception": false,
     "start_time": "2021-06-21T05:16:12.889023",
     "status": "completed"
    },
    "tags": []
   },
   "outputs": [
    {
     "data": {
      "text/html": [
       "<div>\n",
       "<style scoped>\n",
       "    .dataframe tbody tr th:only-of-type {\n",
       "        vertical-align: middle;\n",
       "    }\n",
       "\n",
       "    .dataframe tbody tr th {\n",
       "        vertical-align: top;\n",
       "    }\n",
       "\n",
       "    .dataframe thead th {\n",
       "        text-align: right;\n",
       "    }\n",
       "</style>\n",
       "<table border=\"1\" class=\"dataframe\">\n",
       "  <thead>\n",
       "    <tr style=\"text-align: right;\">\n",
       "      <th></th>\n",
       "      <th>ApplicantIncome</th>\n",
       "      <th>CoapplicantIncome</th>\n",
       "      <th>LoanAmount</th>\n",
       "      <th>Loan_Amount_Term</th>\n",
       "      <th>Credit_History</th>\n",
       "    </tr>\n",
       "  </thead>\n",
       "  <tbody>\n",
       "    <tr>\n",
       "      <th>count</th>\n",
       "      <td>614.000000</td>\n",
       "      <td>614.000000</td>\n",
       "      <td>592.000000</td>\n",
       "      <td>600.00000</td>\n",
       "      <td>564.000000</td>\n",
       "    </tr>\n",
       "    <tr>\n",
       "      <th>mean</th>\n",
       "      <td>5403.459283</td>\n",
       "      <td>1621.245798</td>\n",
       "      <td>146.412162</td>\n",
       "      <td>342.00000</td>\n",
       "      <td>0.842199</td>\n",
       "    </tr>\n",
       "    <tr>\n",
       "      <th>std</th>\n",
       "      <td>6109.041673</td>\n",
       "      <td>2926.248369</td>\n",
       "      <td>85.587325</td>\n",
       "      <td>65.12041</td>\n",
       "      <td>0.364878</td>\n",
       "    </tr>\n",
       "    <tr>\n",
       "      <th>min</th>\n",
       "      <td>150.000000</td>\n",
       "      <td>0.000000</td>\n",
       "      <td>9.000000</td>\n",
       "      <td>12.00000</td>\n",
       "      <td>0.000000</td>\n",
       "    </tr>\n",
       "    <tr>\n",
       "      <th>25%</th>\n",
       "      <td>2877.500000</td>\n",
       "      <td>0.000000</td>\n",
       "      <td>100.000000</td>\n",
       "      <td>360.00000</td>\n",
       "      <td>1.000000</td>\n",
       "    </tr>\n",
       "    <tr>\n",
       "      <th>50%</th>\n",
       "      <td>3812.500000</td>\n",
       "      <td>1188.500000</td>\n",
       "      <td>128.000000</td>\n",
       "      <td>360.00000</td>\n",
       "      <td>1.000000</td>\n",
       "    </tr>\n",
       "    <tr>\n",
       "      <th>75%</th>\n",
       "      <td>5795.000000</td>\n",
       "      <td>2297.250000</td>\n",
       "      <td>168.000000</td>\n",
       "      <td>360.00000</td>\n",
       "      <td>1.000000</td>\n",
       "    </tr>\n",
       "    <tr>\n",
       "      <th>max</th>\n",
       "      <td>81000.000000</td>\n",
       "      <td>41667.000000</td>\n",
       "      <td>700.000000</td>\n",
       "      <td>480.00000</td>\n",
       "      <td>1.000000</td>\n",
       "    </tr>\n",
       "  </tbody>\n",
       "</table>\n",
       "</div>"
      ],
      "text/plain": [
       "       ApplicantIncome  CoapplicantIncome  LoanAmount  Loan_Amount_Term  \\\n",
       "count       614.000000         614.000000  592.000000         600.00000   \n",
       "mean       5403.459283        1621.245798  146.412162         342.00000   \n",
       "std        6109.041673        2926.248369   85.587325          65.12041   \n",
       "min         150.000000           0.000000    9.000000          12.00000   \n",
       "25%        2877.500000           0.000000  100.000000         360.00000   \n",
       "50%        3812.500000        1188.500000  128.000000         360.00000   \n",
       "75%        5795.000000        2297.250000  168.000000         360.00000   \n",
       "max       81000.000000       41667.000000  700.000000         480.00000   \n",
       "\n",
       "       Credit_History  \n",
       "count      564.000000  \n",
       "mean         0.842199  \n",
       "std          0.364878  \n",
       "min          0.000000  \n",
       "25%          1.000000  \n",
       "50%          1.000000  \n",
       "75%          1.000000  \n",
       "max          1.000000  "
      ]
     },
     "execution_count": 5,
     "metadata": {},
     "output_type": "execute_result"
    }
   ],
   "source": [
    "df.describe()"
   ]
  },
  {
   "cell_type": "code",
   "execution_count": 6,
   "id": "beginning-startup",
   "metadata": {
    "execution": {
     "iopub.execute_input": "2021-06-21T05:16:13.183691Z",
     "iopub.status.busy": "2021-06-21T05:16:13.182688Z",
     "iopub.status.idle": "2021-06-21T05:16:13.495686Z",
     "shell.execute_reply": "2021-06-21T05:16:13.495041Z",
     "shell.execute_reply.started": "2021-06-21T05:14:55.209911Z"
    },
    "papermill": {
     "duration": 0.406417,
     "end_time": "2021-06-21T05:16:13.495860",
     "exception": false,
     "start_time": "2021-06-21T05:16:13.089443",
     "status": "completed"
    },
    "tags": []
   },
   "outputs": [
    {
     "data": {
      "text/plain": [
       "<AxesSubplot:>"
      ]
     },
     "execution_count": 6,
     "metadata": {},
     "output_type": "execute_result"
    },
    {
     "data": {
      "image/png": "[encoded data removed]",
      "text/plain": [
       "<Figure size 432x288 with 1 Axes>"
      ]
     },
     "metadata": {
      "needs_background": "light"
     },
     "output_type": "display_data"
    }
   ],
   "source": [
    "df['ApplicantIncome'].hist(bins=50)"
   ]
  },
  {
   "cell_type": "code",
   "execution_count": 7,
   "id": "nasty-covering",
   "metadata": {
    "execution": {
     "iopub.execute_input": "2021-06-21T05:16:13.695908Z",
     "iopub.status.busy": "2021-06-21T05:16:13.694689Z",
     "iopub.status.idle": "2021-06-21T05:16:13.827742Z",
     "shell.execute_reply": "2021-06-21T05:16:13.827065Z",
     "shell.execute_reply.started": "2021-06-21T05:14:55.517370Z"
    },
    "papermill": {
     "duration": 0.247938,
     "end_time": "2021-06-21T05:16:13.827913",
     "exception": false,
     "start_time": "2021-06-21T05:16:13.579975",
     "status": "completed"
    },
    "tags": []
   },
   "outputs": [
    {
     "data": {
      "text/plain": [
       "<AxesSubplot:>"
      ]
     },
     "execution_count": 7,
     "metadata": {},
     "output_type": "execute_result"
    },
    {
     "data": {
      "image/png": "[encoded data removed]",
      "text/plain": [
       "<Figure size 432x288 with 1 Axes>"
      ]
     },
     "metadata": {
      "needs_background": "light"
     },
     "output_type": "display_data"
    }
   ],
   "source": [
    "df.boxplot(column='ApplicantIncome')"
   ]
  },
  {
   "cell_type": "code",
   "execution_count": 8,
   "id": "unknown-incident",
   "metadata": {
    "execution": {
     "iopub.execute_input": "2021-06-21T05:16:14.038535Z",
     "iopub.status.busy": "2021-06-21T05:16:14.028081Z",
     "iopub.status.idle": "2021-06-21T05:16:14.223279Z",
     "shell.execute_reply": "2021-06-21T05:16:14.222570Z",
     "shell.execute_reply.started": "2021-06-21T05:14:55.664299Z"
    },
    "papermill": {
     "duration": 0.308929,
     "end_time": "2021-06-21T05:16:14.223484",
     "exception": false,
     "start_time": "2021-06-21T05:16:13.914555",
     "status": "completed"
    },
    "tags": []
   },
   "outputs": [
    {
     "data": {
      "text/plain": [
       "<AxesSubplot:title={'center':'ApplicantIncome'}, xlabel='Education'>"
      ]
     },
     "execution_count": 8,
     "metadata": {},
     "output_type": "execute_result"
    },
    {
     "data": {
      "image/png": "[encoded data removed]",
      "text/plain": [
       "<Figure size 432x288 with 1 Axes>"
      ]
     },
     "metadata": {
      "needs_background": "light"
     },
     "output_type": "display_data"
    }
   ],
   "source": [
    "df.boxplot(column='ApplicantIncome', by = 'Education')"
   ]
  },
  {
   "cell_type": "code",
   "execution_count": 9,
   "id": "spread-algorithm",
   "metadata": {
    "execution": {
     "iopub.execute_input": "2021-06-21T05:16:14.415092Z",
     "iopub.status.busy": "2021-06-21T05:16:14.414313Z",
     "iopub.status.idle": "2021-06-21T05:16:14.642901Z",
     "shell.execute_reply": "2021-06-21T05:16:14.643516Z",
     "shell.execute_reply.started": "2021-06-21T05:14:55.840689Z"
    },
    "papermill": {
     "duration": 0.331535,
     "end_time": "2021-06-21T05:16:14.643736",
     "exception": false,
     "start_time": "2021-06-21T05:16:14.312201",
     "status": "completed"
    },
    "tags": []
   },
   "outputs": [
    {
     "data": {
      "text/plain": [
       "<AxesSubplot:>"
      ]
     },
     "execution_count": 9,
     "metadata": {},
     "output_type": "execute_result"
    },
    {
     "data": {
      "image/png": "[encoded data removed]",
      "text/plain": [
       "<Figure size 432x288 with 1 Axes>"
      ]
     },
     "metadata": {
      "needs_background": "light"
     },
     "output_type": "display_data"
    }
   ],
   "source": [
    "df['LoanAmount'].hist(bins=50)"
   ]
  },
  {
   "cell_type": "code",
   "execution_count": 10,
   "id": "convertible-interview",
   "metadata": {
    "execution": {
     "iopub.execute_input": "2021-06-21T05:16:14.842801Z",
     "iopub.status.busy": "2021-06-21T05:16:14.841762Z",
     "iopub.status.idle": "2021-06-21T05:16:14.960892Z",
     "shell.execute_reply": "2021-06-21T05:16:14.960316Z",
     "shell.execute_reply.started": "2021-06-21T05:14:56.080824Z"
    },
    "papermill": {
     "duration": 0.228466,
     "end_time": "2021-06-21T05:16:14.961038",
     "exception": false,
     "start_time": "2021-06-21T05:16:14.732572",
     "status": "completed"
    },
    "tags": []
   },
   "outputs": [
    {
     "data": {
      "text/plain": [
       "<AxesSubplot:>"
      ]
     },
     "execution_count": 10,
     "metadata": {},
     "output_type": "execute_result"
    },
    {
     "data": {
      "image/png": "[encoded data removed]",
      "text/plain": [
       "<Figure size 432x288 with 1 Axes>"
      ]
     },
     "metadata": {
      "needs_background": "light"
     },
     "output_type": "display_data"
    }
   ],
   "source": [
    "df.boxplot(column='LoanAmount')"
   ]
  },
  {
   "cell_type": "code",
   "execution_count": 11,
   "id": "distinguished-hampshire",
   "metadata": {
    "execution": {
     "iopub.execute_input": "2021-06-21T05:16:15.160746Z",
     "iopub.status.busy": "2021-06-21T05:16:15.151938Z",
     "iopub.status.idle": "2021-06-21T05:16:15.188603Z",
     "shell.execute_reply": "2021-06-21T05:16:15.189085Z",
     "shell.execute_reply.started": "2021-06-21T05:14:56.228510Z"
    },
    "papermill": {
     "duration": 0.139594,
     "end_time": "2021-06-21T05:16:15.189265",
     "exception": false,
     "start_time": "2021-06-21T05:16:15.049671",
     "status": "completed"
    },
    "tags": []
   },
   "outputs": [
    {
     "name": "stdout",
     "output_type": "stream",
     "text": [
      "Frequency Table for Credit History:\n",
      "0.0     89\n",
      "1.0    475\n",
      "Name: Credit_History, dtype: int64\n",
      "\n",
      "Probility of getting loan for each Credit History class:\n",
      "                Loan_Status\n",
      "Credit_History             \n",
      "0.0                0.078652\n",
      "1.0                0.795789\n"
     ]
    }
   ],
   "source": [
    "temp1 = df['Credit_History'].value_counts(ascending=True)\n",
    "temp2 = df.pivot_table(values='Loan_Status',index=['Credit_History'],aggfunc=lambda x: x.map({'Y':1,'N':0}).mean())\n",
    "print ('Frequency Table for Credit History:' )\n",
    "print (temp1)\n",
    "print ('\\nProbility of getting loan for each Credit History class:')\n",
    "print (temp2)"
   ]
  },
  {
   "cell_type": "code",
   "execution_count": 12,
   "id": "enclosed-floor",
   "metadata": {
    "execution": {
     "iopub.execute_input": "2021-06-21T05:16:15.398578Z",
     "iopub.status.busy": "2021-06-21T05:16:15.395848Z",
     "iopub.status.idle": "2021-06-21T05:16:15.793832Z",
     "shell.execute_reply": "2021-06-21T05:16:15.793172Z",
     "shell.execute_reply.started": "2021-06-21T05:14:56.272423Z"
    },
    "papermill": {
     "duration": 0.513418,
     "end_time": "2021-06-21T05:16:15.793971",
     "exception": false,
     "start_time": "2021-06-21T05:16:15.280553",
     "status": "completed"
    },
    "tags": []
   },
   "outputs": [
    {
     "data": {
      "text/plain": [
       "Text(0.5, 1.0, 'Probability of getting loan by credit history')"
      ]
     },
     "execution_count": 12,
     "metadata": {},
     "output_type": "execute_result"
    },
    {
     "data": {
      "image/png": "[encoded data removed]",
      "text/plain": [
       "<Figure size 576x288 with 2 Axes>"
      ]
     },
     "metadata": {
      "needs_background": "light"
     },
     "output_type": "display_data"
    },
    {
     "data": {
      "image/png": "[encoded data removed]",
      "text/plain": [
       "<Figure size 432x288 with 1 Axes>"
      ]
     },
     "metadata": {
      "needs_background": "light"
     },
     "output_type": "display_data"
    }
   ],
   "source": [
    "fig = plt.figure(figsize=(8,4))\n",
    "ax1 = fig.add_subplot(121)\n",
    "ax1.set_xlabel('Credit_History')\n",
    "ax1.set_ylabel('Count of Applicants')\n",
    "ax1.set_title(\"Applicants by Credit_History\")\n",
    "temp1.plot(kind='bar')\n",
    "ax2 = fig.add_subplot(122)\n",
    "temp2.plot(kind = 'bar')\n",
    "ax2.set_xlabel('Credit_History')\n",
    "ax2.set_ylabel('Probability of getting loan')\n",
    "ax2.set_title(\"Probability of getting loan by credit history\")"
   ]
  },
  {
   "cell_type": "code",
   "execution_count": 13,
   "id": "acoustic-domain",
   "metadata": {
    "execution": {
     "iopub.execute_input": "2021-06-21T05:16:15.987546Z",
     "iopub.status.busy": "2021-06-21T05:16:15.986754Z",
     "iopub.status.idle": "2021-06-21T05:16:16.156089Z",
     "shell.execute_reply": "2021-06-21T05:16:16.155500Z",
     "shell.execute_reply.started": "2021-06-21T05:14:56.677436Z"
    },
    "papermill": {
     "duration": 0.271121,
     "end_time": "2021-06-21T05:16:16.156245",
     "exception": false,
     "start_time": "2021-06-21T05:16:15.885124",
     "status": "completed"
    },
    "tags": []
   },
   "outputs": [
    {
     "data": {
      "text/plain": [
       "<AxesSubplot:xlabel='Credit_History'>"
      ]
     },
     "execution_count": 13,
     "metadata": {},
     "output_type": "execute_result"
    },
    {
     "data": {
      "image/png": "[encoded data removed]",
      "text/plain": [
       "<Figure size 432x288 with 1 Axes>"
      ]
     },
     "metadata": {
      "needs_background": "light"
     },
     "output_type": "display_data"
    }
   ],
   "source": [
    "temp3 = pd.crosstab(df['Credit_History'], df['Loan_Status'])\n",
    "temp3.plot(kind='bar', stacked=True, color=['red','green'],grid=False)"
   ]
  },
  {
   "cell_type": "code",
   "execution_count": 14,
   "id": "latest-bahamas",
   "metadata": {
    "execution": {
     "iopub.execute_input": "2021-06-21T05:16:16.352937Z",
     "iopub.status.busy": "2021-06-21T05:16:16.352052Z",
     "iopub.status.idle": "2021-06-21T05:16:16.357496Z",
     "shell.execute_reply": "2021-06-21T05:16:16.358151Z",
     "shell.execute_reply.started": "2021-06-21T05:14:56.875145Z"
    },
    "papermill": {
     "duration": 0.110503,
     "end_time": "2021-06-21T05:16:16.358409",
     "exception": false,
     "start_time": "2021-06-21T05:16:16.247906",
     "status": "completed"
    },
    "tags": []
   },
   "outputs": [
    {
     "data": {
      "text/plain": [
       "Loan_ID               0\n",
       "Gender               13\n",
       "Married               3\n",
       "Dependents           15\n",
       "Education             0\n",
       "Self_Employed        32\n",
       "ApplicantIncome       0\n",
       "CoapplicantIncome     0\n",
       "LoanAmount           22\n",
       "Loan_Amount_Term     14\n",
       "Credit_History       50\n",
       "Property_Area         0\n",
       "Loan_Status           0\n",
       "dtype: int64"
      ]
     },
     "execution_count": 14,
     "metadata": {},
     "output_type": "execute_result"
    }
   ],
   "source": [
    "df.apply(lambda x: sum(x.isnull()),axis=0)"
   ]
  },
  {
   "cell_type": "code",
   "execution_count": 15,
   "id": "german-maintenance",
   "metadata": {
    "execution": {
     "iopub.execute_input": "2021-06-21T05:16:16.551251Z",
     "iopub.status.busy": "2021-06-21T05:16:16.550413Z",
     "iopub.status.idle": "2021-06-21T05:16:16.553791Z",
     "shell.execute_reply": "2021-06-21T05:16:16.554320Z",
     "shell.execute_reply.started": "2021-06-21T05:14:56.890994Z"
    },
    "papermill": {
     "duration": 0.103825,
     "end_time": "2021-06-21T05:16:16.554521",
     "exception": false,
     "start_time": "2021-06-21T05:16:16.450696",
     "status": "completed"
    },
    "tags": []
   },
   "outputs": [],
   "source": [
    "df['LoanAmount'].fillna(df['LoanAmount'].mean(), inplace=True)"
   ]
  },
  {
   "cell_type": "code",
   "execution_count": 16,
   "id": "horizontal-lesbian",
   "metadata": {
    "execution": {
     "iopub.execute_input": "2021-06-21T05:16:16.748551Z",
     "iopub.status.busy": "2021-06-21T05:16:16.747669Z",
     "iopub.status.idle": "2021-06-21T05:16:16.753207Z",
     "shell.execute_reply": "2021-06-21T05:16:16.752146Z",
     "shell.execute_reply.started": "2021-06-21T05:14:56.905697Z"
    },
    "papermill": {
     "duration": 0.107103,
     "end_time": "2021-06-21T05:16:16.753377",
     "exception": false,
     "start_time": "2021-06-21T05:16:16.646274",
     "status": "completed"
    },
    "tags": []
   },
   "outputs": [
    {
     "data": {
      "text/plain": [
       "No     500\n",
       "Yes     82\n",
       "Name: Self_Employed, dtype: int64"
      ]
     },
     "execution_count": 16,
     "metadata": {},
     "output_type": "execute_result"
    }
   ],
   "source": [
    "df[\"Self_Employed\"].value_counts()"
   ]
  },
  {
   "cell_type": "code",
   "execution_count": 17,
   "id": "broad-things",
   "metadata": {
    "execution": {
     "iopub.execute_input": "2021-06-21T05:16:16.945748Z",
     "iopub.status.busy": "2021-06-21T05:16:16.945021Z",
     "iopub.status.idle": "2021-06-21T05:16:16.947704Z",
     "shell.execute_reply": "2021-06-21T05:16:16.947049Z",
     "shell.execute_reply.started": "2021-06-21T05:14:56.921702Z"
    },
    "papermill": {
     "duration": 0.102203,
     "end_time": "2021-06-21T05:16:16.947876",
     "exception": false,
     "start_time": "2021-06-21T05:16:16.845673",
     "status": "completed"
    },
    "tags": []
   },
   "outputs": [],
   "source": [
    "df['Self_Employed'].fillna('No',inplace=True)"
   ]
  },
  {
   "cell_type": "code",
   "execution_count": 18,
   "id": "floating-steal",
   "metadata": {
    "execution": {
     "iopub.execute_input": "2021-06-21T05:16:17.900579Z",
     "iopub.status.busy": "2021-06-21T05:16:17.899802Z",
     "iopub.status.idle": "2021-06-21T05:16:18.198608Z",
     "shell.execute_reply": "2021-06-21T05:16:18.199101Z",
     "shell.execute_reply.started": "2021-06-21T05:14:56.936200Z"
    },
    "papermill": {
     "duration": 0.413765,
     "end_time": "2021-06-21T05:16:18.199340",
     "exception": false,
     "start_time": "2021-06-21T05:16:17.785575",
     "status": "completed"
    },
    "tags": []
   },
   "outputs": [
    {
     "data": {
      "text/plain": [
       "<AxesSubplot:>"
      ]
     },
     "execution_count": 18,
     "metadata": {},
     "output_type": "execute_result"
    },
    {
     "data": {
      "image/png": "[encoded data removed]",
      "text/plain": [
       "<Figure size 720x432 with 2 Axes>"
      ]
     },
     "metadata": {
      "needs_background": "light"
     },
     "output_type": "display_data"
    }
   ],
   "source": [
    "matrix=df.corr()\n",
    "f,ax= plt.subplots(figsize=(10,6))\n",
    "sns.heatmap(matrix,vmax=.8,square=True,cmap=\"coolwarm\")"
   ]
  },
  {
   "cell_type": "code",
   "execution_count": 19,
   "id": "union-patrol",
   "metadata": {
    "execution": {
     "iopub.execute_input": "2021-06-21T05:16:18.398446Z",
     "iopub.status.busy": "2021-06-21T05:16:18.397658Z",
     "iopub.status.idle": "2021-06-21T05:16:18.402554Z",
     "shell.execute_reply": "2021-06-21T05:16:18.401978Z",
     "shell.execute_reply.started": "2021-06-21T05:14:57.230784Z"
    },
    "papermill": {
     "duration": 0.108804,
     "end_time": "2021-06-21T05:16:18.402715",
     "exception": false,
     "start_time": "2021-06-21T05:16:18.293911",
     "status": "completed"
    },
    "tags": []
   },
   "outputs": [
    {
     "data": {
      "text/plain": [
       "Loan_ID               0\n",
       "Gender               13\n",
       "Married               3\n",
       "Dependents           15\n",
       "Education             0\n",
       "Self_Employed         0\n",
       "ApplicantIncome       0\n",
       "CoapplicantIncome     0\n",
       "LoanAmount            0\n",
       "Loan_Amount_Term     14\n",
       "Credit_History       50\n",
       "Property_Area         0\n",
       "Loan_Status           0\n",
       "dtype: int64"
      ]
     },
     "execution_count": 19,
     "metadata": {},
     "output_type": "execute_result"
    }
   ],
   "source": [
    "df.isnull().sum()"
   ]
  },
  {
   "cell_type": "code",
   "execution_count": 20,
   "id": "bulgarian-writing",
   "metadata": {
    "execution": {
     "iopub.execute_input": "2021-06-21T05:16:18.613840Z",
     "iopub.status.busy": "2021-06-21T05:16:18.612762Z",
     "iopub.status.idle": "2021-06-21T05:16:18.618101Z",
     "shell.execute_reply": "2021-06-21T05:16:18.617601Z",
     "shell.execute_reply.started": "2021-06-21T05:14:57.242835Z"
    },
    "papermill": {
     "duration": 0.120723,
     "end_time": "2021-06-21T05:16:18.618273",
     "exception": false,
     "start_time": "2021-06-21T05:16:18.497550",
     "status": "completed"
    },
    "tags": []
   },
   "outputs": [
    {
     "data": {
      "text/html": [
       "<div>\n",
       "<style scoped>\n",
       "    .dataframe tbody tr th:only-of-type {\n",
       "        vertical-align: middle;\n",
       "    }\n",
       "\n",
       "    .dataframe tbody tr th {\n",
       "        vertical-align: top;\n",
       "    }\n",
       "\n",
       "    .dataframe thead th {\n",
       "        text-align: right;\n",
       "    }\n",
       "</style>\n",
       "<table border=\"1\" class=\"dataframe\">\n",
       "  <thead>\n",
       "    <tr style=\"text-align: right;\">\n",
       "      <th></th>\n",
       "      <th>Loan_ID</th>\n",
       "      <th>Gender</th>\n",
       "      <th>Married</th>\n",
       "      <th>Dependents</th>\n",
       "      <th>Education</th>\n",
       "      <th>Self_Employed</th>\n",
       "      <th>ApplicantIncome</th>\n",
       "      <th>CoapplicantIncome</th>\n",
       "      <th>LoanAmount</th>\n",
       "      <th>Loan_Amount_Term</th>\n",
       "      <th>Credit_History</th>\n",
       "      <th>Property_Area</th>\n",
       "      <th>Loan_Status</th>\n",
       "    </tr>\n",
       "  </thead>\n",
       "  <tbody>\n",
       "    <tr>\n",
       "      <th>0</th>\n",
       "      <td>LP001002</td>\n",
       "      <td>Male</td>\n",
       "      <td>No</td>\n",
       "      <td>0</td>\n",
       "      <td>Graduate</td>\n",
       "      <td>No</td>\n",
       "      <td>5849</td>\n",
       "      <td>0.0</td>\n",
       "      <td>146.412162</td>\n",
       "      <td>360.0</td>\n",
       "      <td>1.0</td>\n",
       "      <td>Urban</td>\n",
       "      <td>Y</td>\n",
       "    </tr>\n",
       "    <tr>\n",
       "      <th>1</th>\n",
       "      <td>LP001003</td>\n",
       "      <td>Male</td>\n",
       "      <td>Yes</td>\n",
       "      <td>1</td>\n",
       "      <td>Graduate</td>\n",
       "      <td>No</td>\n",
       "      <td>4583</td>\n",
       "      <td>1508.0</td>\n",
       "      <td>128.000000</td>\n",
       "      <td>360.0</td>\n",
       "      <td>1.0</td>\n",
       "      <td>Rural</td>\n",
       "      <td>N</td>\n",
       "    </tr>\n",
       "    <tr>\n",
       "      <th>2</th>\n",
       "      <td>LP001005</td>\n",
       "      <td>Male</td>\n",
       "      <td>Yes</td>\n",
       "      <td>0</td>\n",
       "      <td>Graduate</td>\n",
       "      <td>Yes</td>\n",
       "      <td>3000</td>\n",
       "      <td>0.0</td>\n",
       "      <td>66.000000</td>\n",
       "      <td>360.0</td>\n",
       "      <td>1.0</td>\n",
       "      <td>Urban</td>\n",
       "      <td>Y</td>\n",
       "    </tr>\n",
       "    <tr>\n",
       "      <th>3</th>\n",
       "      <td>LP001006</td>\n",
       "      <td>Male</td>\n",
       "      <td>Yes</td>\n",
       "      <td>0</td>\n",
       "      <td>Not Graduate</td>\n",
       "      <td>No</td>\n",
       "      <td>2583</td>\n",
       "      <td>2358.0</td>\n",
       "      <td>120.000000</td>\n",
       "      <td>360.0</td>\n",
       "      <td>1.0</td>\n",
       "      <td>Urban</td>\n",
       "      <td>Y</td>\n",
       "    </tr>\n",
       "    <tr>\n",
       "      <th>4</th>\n",
       "      <td>LP001008</td>\n",
       "      <td>Male</td>\n",
       "      <td>No</td>\n",
       "      <td>0</td>\n",
       "      <td>Graduate</td>\n",
       "      <td>No</td>\n",
       "      <td>6000</td>\n",
       "      <td>0.0</td>\n",
       "      <td>141.000000</td>\n",
       "      <td>360.0</td>\n",
       "      <td>1.0</td>\n",
       "      <td>Urban</td>\n",
       "      <td>Y</td>\n",
       "    </tr>\n",
       "  </tbody>\n",
       "</table>\n",
       "</div>"
      ],
      "text/plain": [
       "    Loan_ID Gender Married Dependents     Education Self_Employed  \\\n",
       "0  LP001002   Male      No          0      Graduate            No   \n",
       "1  LP001003   Male     Yes          1      Graduate            No   \n",
       "2  LP001005   Male     Yes          0      Graduate           Yes   \n",
       "3  LP001006   Male     Yes          0  Not Graduate            No   \n",
       "4  LP001008   Male      No          0      Graduate            No   \n",
       "\n",
       "   ApplicantIncome  CoapplicantIncome  LoanAmount  Loan_Amount_Term  \\\n",
       "0             5849                0.0  146.412162             360.0   \n",
       "1             4583             1508.0  128.000000             360.0   \n",
       "2             3000                0.0   66.000000             360.0   \n",
       "3             2583             2358.0  120.000000             360.0   \n",
       "4             6000                0.0  141.000000             360.0   \n",
       "\n",
       "   Credit_History Property_Area Loan_Status  \n",
       "0             1.0         Urban           Y  \n",
       "1             1.0         Rural           N  \n",
       "2             1.0         Urban           Y  \n",
       "3             1.0         Urban           Y  \n",
       "4             1.0         Urban           Y  "
      ]
     },
     "execution_count": 20,
     "metadata": {},
     "output_type": "execute_result"
    }
   ],
   "source": [
    "df.head()"
   ]
  },
  {
   "cell_type": "markdown",
   "id": "confused-portable",
   "metadata": {
    "papermill": {
     "duration": 0.095794,
     "end_time": "2021-06-21T05:16:18.809166",
     "exception": false,
     "start_time": "2021-06-21T05:16:18.713372",
     "status": "completed"
    },
    "tags": []
   },
   "source": [
    "# Replacing the categorical values"
   ]
  },
  {
   "cell_type": "code",
   "execution_count": 21,
   "id": "fallen-onion",
   "metadata": {
    "execution": {
     "iopub.execute_input": "2021-06-21T05:16:19.009891Z",
     "iopub.status.busy": "2021-06-21T05:16:19.008994Z",
     "iopub.status.idle": "2021-06-21T05:16:19.019116Z",
     "shell.execute_reply": "2021-06-21T05:16:19.019661Z",
     "shell.execute_reply.started": "2021-06-21T05:14:57.274580Z"
    },
    "papermill": {
     "duration": 0.115393,
     "end_time": "2021-06-21T05:16:19.019891",
     "exception": false,
     "start_time": "2021-06-21T05:16:18.904498",
     "status": "completed"
    },
    "tags": []
   },
   "outputs": [],
   "source": [
    "df.Gender=df.Gender.map({\"Female\":0,\"Male\":1})\n",
    "df.Married=df.Married.map({\"No\":0,\"Yes\":1})\n",
    "df.Self_Employed=df.Self_Employed.map({\"No\":0,\"Yes\":1})\n",
    "df.Education=df.Education.map({\"Not\":1,\"Graduate\":0})\n",
    "df.Property_Area=df.Property_Area.map({\"Urban\":0,\"Rural\":1})\n",
    "df.Loan_Status=df.Loan_Status.map({\"N\":0,\"Y\":1})\n",
    "df.Dependents=df.Dependents.map({\"3+\":3,\"0\":0,\"1\":1,\"2\":2})"
   ]
  },
  {
   "cell_type": "code",
   "execution_count": 22,
   "id": "apart-lincoln",
   "metadata": {
    "execution": {
     "iopub.execute_input": "2021-06-21T05:16:19.217926Z",
     "iopub.status.busy": "2021-06-21T05:16:19.217226Z",
     "iopub.status.idle": "2021-06-21T05:16:19.239413Z",
     "shell.execute_reply": "2021-06-21T05:16:19.238646Z",
     "shell.execute_reply.started": "2021-06-21T05:14:57.295129Z"
    },
    "papermill": {
     "duration": 0.121033,
     "end_time": "2021-06-21T05:16:19.239587",
     "exception": false,
     "start_time": "2021-06-21T05:16:19.118554",
     "status": "completed"
    },
    "scrolled": true,
    "tags": []
   },
   "outputs": [
    {
     "data": {
      "text/html": [
       "<div>\n",
       "<style scoped>\n",
       "    .dataframe tbody tr th:only-of-type {\n",
       "        vertical-align: middle;\n",
       "    }\n",
       "\n",
       "    .dataframe tbody tr th {\n",
       "        vertical-align: top;\n",
       "    }\n",
       "\n",
       "    .dataframe thead th {\n",
       "        text-align: right;\n",
       "    }\n",
       "</style>\n",
       "<table border=\"1\" class=\"dataframe\">\n",
       "  <thead>\n",
       "    <tr style=\"text-align: right;\">\n",
       "      <th></th>\n",
       "      <th>Loan_ID</th>\n",
       "      <th>Gender</th>\n",
       "      <th>Married</th>\n",
       "      <th>Dependents</th>\n",
       "      <th>Education</th>\n",
       "      <th>Self_Employed</th>\n",
       "      <th>ApplicantIncome</th>\n",
       "      <th>CoapplicantIncome</th>\n",
       "      <th>LoanAmount</th>\n",
       "      <th>Loan_Amount_Term</th>\n",
       "      <th>Credit_History</th>\n",
       "      <th>Property_Area</th>\n",
       "      <th>Loan_Status</th>\n",
       "    </tr>\n",
       "  </thead>\n",
       "  <tbody>\n",
       "    <tr>\n",
       "      <th>0</th>\n",
       "      <td>LP001002</td>\n",
       "      <td>1.0</td>\n",
       "      <td>0.0</td>\n",
       "      <td>0.0</td>\n",
       "      <td>0.0</td>\n",
       "      <td>0</td>\n",
       "      <td>5849</td>\n",
       "      <td>0.0</td>\n",
       "      <td>146.412162</td>\n",
       "      <td>360.0</td>\n",
       "      <td>1.0</td>\n",
       "      <td>0.0</td>\n",
       "      <td>1</td>\n",
       "    </tr>\n",
       "    <tr>\n",
       "      <th>1</th>\n",
       "      <td>LP001003</td>\n",
       "      <td>1.0</td>\n",
       "      <td>1.0</td>\n",
       "      <td>1.0</td>\n",
       "      <td>0.0</td>\n",
       "      <td>0</td>\n",
       "      <td>4583</td>\n",
       "      <td>1508.0</td>\n",
       "      <td>128.000000</td>\n",
       "      <td>360.0</td>\n",
       "      <td>1.0</td>\n",
       "      <td>1.0</td>\n",
       "      <td>0</td>\n",
       "    </tr>\n",
       "    <tr>\n",
       "      <th>2</th>\n",
       "      <td>LP001005</td>\n",
       "      <td>1.0</td>\n",
       "      <td>1.0</td>\n",
       "      <td>0.0</td>\n",
       "      <td>0.0</td>\n",
       "      <td>1</td>\n",
       "      <td>3000</td>\n",
       "      <td>0.0</td>\n",
       "      <td>66.000000</td>\n",
       "      <td>360.0</td>\n",
       "      <td>1.0</td>\n",
       "      <td>0.0</td>\n",
       "      <td>1</td>\n",
       "    </tr>\n",
       "    <tr>\n",
       "      <th>3</th>\n",
       "      <td>LP001006</td>\n",
       "      <td>1.0</td>\n",
       "      <td>1.0</td>\n",
       "      <td>0.0</td>\n",
       "      <td>NaN</td>\n",
       "      <td>0</td>\n",
       "      <td>2583</td>\n",
       "      <td>2358.0</td>\n",
       "      <td>120.000000</td>\n",
       "      <td>360.0</td>\n",
       "      <td>1.0</td>\n",
       "      <td>0.0</td>\n",
       "      <td>1</td>\n",
       "    </tr>\n",
       "    <tr>\n",
       "      <th>4</th>\n",
       "      <td>LP001008</td>\n",
       "      <td>1.0</td>\n",
       "      <td>0.0</td>\n",
       "      <td>0.0</td>\n",
       "      <td>0.0</td>\n",
       "      <td>0</td>\n",
       "      <td>6000</td>\n",
       "      <td>0.0</td>\n",
       "      <td>141.000000</td>\n",
       "      <td>360.0</td>\n",
       "      <td>1.0</td>\n",
       "      <td>0.0</td>\n",
       "      <td>1</td>\n",
       "    </tr>\n",
       "  </tbody>\n",
       "</table>\n",
       "</div>"
      ],
      "text/plain": [
       "    Loan_ID  Gender  Married  Dependents  Education  Self_Employed  \\\n",
       "0  LP001002     1.0      0.0         0.0        0.0              0   \n",
       "1  LP001003     1.0      1.0         1.0        0.0              0   \n",
       "2  LP001005     1.0      1.0         0.0        0.0              1   \n",
       "3  LP001006     1.0      1.0         0.0        NaN              0   \n",
       "4  LP001008     1.0      0.0         0.0        0.0              0   \n",
       "\n",
       "   ApplicantIncome  CoapplicantIncome  LoanAmount  Loan_Amount_Term  \\\n",
       "0             5849                0.0  146.412162             360.0   \n",
       "1             4583             1508.0  128.000000             360.0   \n",
       "2             3000                0.0   66.000000             360.0   \n",
       "3             2583             2358.0  120.000000             360.0   \n",
       "4             6000                0.0  141.000000             360.0   \n",
       "\n",
       "   Credit_History  Property_Area  Loan_Status  \n",
       "0             1.0            0.0            1  \n",
       "1             1.0            1.0            0  \n",
       "2             1.0            0.0            1  \n",
       "3             1.0            0.0            1  \n",
       "4             1.0            0.0            1  "
      ]
     },
     "execution_count": 22,
     "metadata": {},
     "output_type": "execute_result"
    }
   ],
   "source": [
    "df.head()"
   ]
  },
  {
   "cell_type": "code",
   "execution_count": 23,
   "id": "ready-publisher",
   "metadata": {
    "execution": {
     "iopub.execute_input": "2021-06-21T05:16:19.450265Z",
     "iopub.status.busy": "2021-06-21T05:16:19.449584Z",
     "iopub.status.idle": "2021-06-21T05:16:19.452192Z",
     "shell.execute_reply": "2021-06-21T05:16:19.452719Z",
     "shell.execute_reply.started": "2021-06-21T05:14:57.334241Z"
    },
    "papermill": {
     "duration": 0.114669,
     "end_time": "2021-06-21T05:16:19.452918",
     "exception": false,
     "start_time": "2021-06-21T05:16:19.338249",
     "status": "completed"
    },
    "tags": []
   },
   "outputs": [],
   "source": [
    "df1.Gender=df1.Gender.map({\"Female\":0,\"Male\":1})\n",
    "df1.Married=df1.Married.map({\"No\":0,\"Yes\":1})\n",
    "df1.Self_Employed=df1.Self_Employed.map({\"No\":0,\"Yes\":1})\n",
    "df1.Education=df1.Education.map({\"Not\":1,\"Graduate\":0})\n",
    "df1.Property_Area=df1.Property_Area.map({\"Urban\":0,\"Rural\":1})\n",
    "df1.Dependents=df1.Dependents.map({\"3+\":3,\"0\":0,\"1\":1,\"2\":2})\n",
    "\n"
   ]
  },
  {
   "cell_type": "code",
   "execution_count": 24,
   "id": "exotic-board",
   "metadata": {
    "execution": {
     "iopub.execute_input": "2021-06-21T05:16:19.649125Z",
     "iopub.status.busy": "2021-06-21T05:16:19.648396Z",
     "iopub.status.idle": "2021-06-21T05:16:19.666996Z",
     "shell.execute_reply": "2021-06-21T05:16:19.667600Z",
     "shell.execute_reply.started": "2021-06-21T05:14:57.456612Z"
    },
    "papermill": {
     "duration": 0.11775,
     "end_time": "2021-06-21T05:16:19.667811",
     "exception": false,
     "start_time": "2021-06-21T05:16:19.550061",
     "status": "completed"
    },
    "tags": []
   },
   "outputs": [
    {
     "data": {
      "text/html": [
       "<div>\n",
       "<style scoped>\n",
       "    .dataframe tbody tr th:only-of-type {\n",
       "        vertical-align: middle;\n",
       "    }\n",
       "\n",
       "    .dataframe tbody tr th {\n",
       "        vertical-align: top;\n",
       "    }\n",
       "\n",
       "    .dataframe thead th {\n",
       "        text-align: right;\n",
       "    }\n",
       "</style>\n",
       "<table border=\"1\" class=\"dataframe\">\n",
       "  <thead>\n",
       "    <tr style=\"text-align: right;\">\n",
       "      <th></th>\n",
       "      <th>Loan_ID</th>\n",
       "      <th>Gender</th>\n",
       "      <th>Married</th>\n",
       "      <th>Dependents</th>\n",
       "      <th>Education</th>\n",
       "      <th>Self_Employed</th>\n",
       "      <th>ApplicantIncome</th>\n",
       "      <th>CoapplicantIncome</th>\n",
       "      <th>LoanAmount</th>\n",
       "      <th>Loan_Amount_Term</th>\n",
       "      <th>Credit_History</th>\n",
       "      <th>Property_Area</th>\n",
       "    </tr>\n",
       "  </thead>\n",
       "  <tbody>\n",
       "    <tr>\n",
       "      <th>0</th>\n",
       "      <td>LP001015</td>\n",
       "      <td>1.0</td>\n",
       "      <td>1</td>\n",
       "      <td>0.0</td>\n",
       "      <td>0.0</td>\n",
       "      <td>0.0</td>\n",
       "      <td>5720</td>\n",
       "      <td>0</td>\n",
       "      <td>110.0</td>\n",
       "      <td>360.0</td>\n",
       "      <td>1.0</td>\n",
       "      <td>0.0</td>\n",
       "    </tr>\n",
       "    <tr>\n",
       "      <th>1</th>\n",
       "      <td>LP001022</td>\n",
       "      <td>1.0</td>\n",
       "      <td>1</td>\n",
       "      <td>1.0</td>\n",
       "      <td>0.0</td>\n",
       "      <td>0.0</td>\n",
       "      <td>3076</td>\n",
       "      <td>1500</td>\n",
       "      <td>126.0</td>\n",
       "      <td>360.0</td>\n",
       "      <td>1.0</td>\n",
       "      <td>0.0</td>\n",
       "    </tr>\n",
       "    <tr>\n",
       "      <th>2</th>\n",
       "      <td>LP001031</td>\n",
       "      <td>1.0</td>\n",
       "      <td>1</td>\n",
       "      <td>2.0</td>\n",
       "      <td>0.0</td>\n",
       "      <td>0.0</td>\n",
       "      <td>5000</td>\n",
       "      <td>1800</td>\n",
       "      <td>208.0</td>\n",
       "      <td>360.0</td>\n",
       "      <td>1.0</td>\n",
       "      <td>0.0</td>\n",
       "    </tr>\n",
       "    <tr>\n",
       "      <th>3</th>\n",
       "      <td>LP001035</td>\n",
       "      <td>1.0</td>\n",
       "      <td>1</td>\n",
       "      <td>2.0</td>\n",
       "      <td>0.0</td>\n",
       "      <td>0.0</td>\n",
       "      <td>2340</td>\n",
       "      <td>2546</td>\n",
       "      <td>100.0</td>\n",
       "      <td>360.0</td>\n",
       "      <td>NaN</td>\n",
       "      <td>0.0</td>\n",
       "    </tr>\n",
       "    <tr>\n",
       "      <th>4</th>\n",
       "      <td>LP001051</td>\n",
       "      <td>1.0</td>\n",
       "      <td>0</td>\n",
       "      <td>0.0</td>\n",
       "      <td>NaN</td>\n",
       "      <td>0.0</td>\n",
       "      <td>3276</td>\n",
       "      <td>0</td>\n",
       "      <td>78.0</td>\n",
       "      <td>360.0</td>\n",
       "      <td>1.0</td>\n",
       "      <td>0.0</td>\n",
       "    </tr>\n",
       "  </tbody>\n",
       "</table>\n",
       "</div>"
      ],
      "text/plain": [
       "    Loan_ID  Gender  Married  Dependents  Education  Self_Employed  \\\n",
       "0  LP001015     1.0        1         0.0        0.0            0.0   \n",
       "1  LP001022     1.0        1         1.0        0.0            0.0   \n",
       "2  LP001031     1.0        1         2.0        0.0            0.0   \n",
       "3  LP001035     1.0        1         2.0        0.0            0.0   \n",
       "4  LP001051     1.0        0         0.0        NaN            0.0   \n",
       "\n",
       "   ApplicantIncome  CoapplicantIncome  LoanAmount  Loan_Amount_Term  \\\n",
       "0             5720                  0       110.0             360.0   \n",
       "1             3076               1500       126.0             360.0   \n",
       "2             5000               1800       208.0             360.0   \n",
       "3             2340               2546       100.0             360.0   \n",
       "4             3276                  0        78.0             360.0   \n",
       "\n",
       "   Credit_History  Property_Area  \n",
       "0             1.0            0.0  \n",
       "1             1.0            0.0  \n",
       "2             1.0            0.0  \n",
       "3             NaN            0.0  \n",
       "4             1.0            0.0  "
      ]
     },
     "execution_count": 24,
     "metadata": {},
     "output_type": "execute_result"
    }
   ],
   "source": [
    "df1.head()"
   ]
  },
  {
   "cell_type": "markdown",
   "id": "described-translation",
   "metadata": {
    "papermill": {
     "duration": 0.095681,
     "end_time": "2021-06-21T05:16:19.859045",
     "exception": false,
     "start_time": "2021-06-21T05:16:19.763364",
     "status": "completed"
    },
    "tags": []
   },
   "source": [
    "# Filling Missing Values"
   ]
  },
  {
   "cell_type": "code",
   "execution_count": 25,
   "id": "systematic-outdoors",
   "metadata": {
    "execution": {
     "iopub.execute_input": "2021-06-21T05:16:20.054710Z",
     "iopub.status.busy": "2021-06-21T05:16:20.053899Z",
     "iopub.status.idle": "2021-06-21T05:16:20.065511Z",
     "shell.execute_reply": "2021-06-21T05:16:20.066040Z",
     "shell.execute_reply.started": "2021-06-21T05:14:57.488437Z"
    },
    "papermill": {
     "duration": 0.111331,
     "end_time": "2021-06-21T05:16:20.066247",
     "exception": false,
     "start_time": "2021-06-21T05:16:19.954916",
     "status": "completed"
    },
    "tags": []
   },
   "outputs": [],
   "source": [
    "df[\"Gender\"].fillna(df[\"Gender\"].mode()[0],inplace=True)\n",
    "df[\"Married\"].fillna(df[\"Married\"].mode()[0],inplace=True)\n",
    "df[\"Dependents\"].fillna(df[\"Dependents\"].mode()[0],inplace=True)\n",
    "df[\"Self_Employed\"].fillna(df[\"Self_Employed\"].mode()[0],inplace=True)\n",
    "df[\"Credit_History\"].fillna(df[\"Credit_History\"].mode()[0],inplace=True)\n",
    "df[\"Education\"].fillna(df[\"Education\"].mode()[0],inplace=True)\n",
    "df[\"Property_Area\"].fillna(df[\"Property_Area\"].mode()[0],inplace=True)"
   ]
  },
  {
   "cell_type": "code",
   "execution_count": 26,
   "id": "exceptional-configuration",
   "metadata": {
    "execution": {
     "iopub.execute_input": "2021-06-21T05:16:20.265278Z",
     "iopub.status.busy": "2021-06-21T05:16:20.264598Z",
     "iopub.status.idle": "2021-06-21T05:16:20.272811Z",
     "shell.execute_reply": "2021-06-21T05:16:20.272262Z",
     "shell.execute_reply.started": "2021-06-21T05:14:57.504924Z"
    },
    "papermill": {
     "duration": 0.107222,
     "end_time": "2021-06-21T05:16:20.272983",
     "exception": false,
     "start_time": "2021-06-21T05:16:20.165761",
     "status": "completed"
    },
    "tags": []
   },
   "outputs": [
    {
     "data": {
      "text/plain": [
       "360.0    512\n",
       "180.0     44\n",
       "480.0     15\n",
       "300.0     13\n",
       "240.0      4\n",
       "84.0       4\n",
       "120.0      3\n",
       "60.0       2\n",
       "36.0       2\n",
       "12.0       1\n",
       "Name: Loan_Amount_Term, dtype: int64"
      ]
     },
     "execution_count": 26,
     "metadata": {},
     "output_type": "execute_result"
    }
   ],
   "source": [
    "#Find the missing values in Loan Amount Term to fill\n",
    "df[\"Loan_Amount_Term\"].value_counts()"
   ]
  },
  {
   "cell_type": "code",
   "execution_count": 27,
   "id": "funky-carnival",
   "metadata": {
    "execution": {
     "iopub.execute_input": "2021-06-21T05:16:20.472062Z",
     "iopub.status.busy": "2021-06-21T05:16:20.471374Z",
     "iopub.status.idle": "2021-06-21T05:16:20.476457Z",
     "shell.execute_reply": "2021-06-21T05:16:20.475730Z",
     "shell.execute_reply.started": "2021-06-21T05:14:57.528450Z"
    },
    "papermill": {
     "duration": 0.10675,
     "end_time": "2021-06-21T05:16:20.476619",
     "exception": false,
     "start_time": "2021-06-21T05:16:20.369869",
     "status": "completed"
    },
    "tags": []
   },
   "outputs": [],
   "source": [
    "df[\"Loan_Amount_Term\"].fillna(df[\"Loan_Amount_Term\"].mode()[0],inplace=True)"
   ]
  },
  {
   "cell_type": "code",
   "execution_count": 28,
   "id": "matched-hardwood",
   "metadata": {
    "execution": {
     "iopub.execute_input": "2021-06-21T05:16:20.671170Z",
     "iopub.status.busy": "2021-06-21T05:16:20.670514Z",
     "iopub.status.idle": "2021-06-21T05:16:20.675363Z",
     "shell.execute_reply": "2021-06-21T05:16:20.675874Z",
     "shell.execute_reply.started": "2021-06-21T05:14:57.541298Z"
    },
    "papermill": {
     "duration": 0.103574,
     "end_time": "2021-06-21T05:16:20.676071",
     "exception": false,
     "start_time": "2021-06-21T05:16:20.572497",
     "status": "completed"
    },
    "tags": []
   },
   "outputs": [],
   "source": [
    "#Filling the Null values using the Median in LoanAmount\n",
    "df[\"LoanAmount\"].fillna(df[\"LoanAmount\"].median(),inplace=True)"
   ]
  },
  {
   "cell_type": "code",
   "execution_count": 29,
   "id": "motivated-neighbor",
   "metadata": {
    "execution": {
     "iopub.execute_input": "2021-06-21T05:16:20.871901Z",
     "iopub.status.busy": "2021-06-21T05:16:20.871262Z",
     "iopub.status.idle": "2021-06-21T05:16:20.880756Z",
     "shell.execute_reply": "2021-06-21T05:16:20.881268Z",
     "shell.execute_reply.started": "2021-06-21T05:14:57.556311Z"
    },
    "papermill": {
     "duration": 0.109214,
     "end_time": "2021-06-21T05:16:20.881465",
     "exception": false,
     "start_time": "2021-06-21T05:16:20.772251",
     "status": "completed"
    },
    "tags": []
   },
   "outputs": [
    {
     "data": {
      "text/plain": [
       "Loan_ID              0\n",
       "Gender               0\n",
       "Married              0\n",
       "Dependents           0\n",
       "Education            0\n",
       "Self_Employed        0\n",
       "ApplicantIncome      0\n",
       "CoapplicantIncome    0\n",
       "LoanAmount           0\n",
       "Loan_Amount_Term     0\n",
       "Credit_History       0\n",
       "Property_Area        0\n",
       "Loan_Status          0\n",
       "dtype: int64"
      ]
     },
     "execution_count": 29,
     "metadata": {},
     "output_type": "execute_result"
    }
   ],
   "source": [
    "df.isnull().sum()"
   ]
  },
  {
   "cell_type": "markdown",
   "id": "unexpected-cycling",
   "metadata": {
    "papermill": {
     "duration": 0.096643,
     "end_time": "2021-06-21T05:16:21.074062",
     "exception": false,
     "start_time": "2021-06-21T05:16:20.977419",
     "status": "completed"
    },
    "tags": []
   },
   "source": [
    "# Filling Missing Values in Test Data"
   ]
  },
  {
   "cell_type": "code",
   "execution_count": 30,
   "id": "exclusive-extension",
   "metadata": {
    "execution": {
     "iopub.execute_input": "2021-06-21T05:16:21.277634Z",
     "iopub.status.busy": "2021-06-21T05:16:21.276610Z",
     "iopub.status.idle": "2021-06-21T05:16:21.281734Z",
     "shell.execute_reply": "2021-06-21T05:16:21.281207Z",
     "shell.execute_reply.started": "2021-06-21T05:14:57.576512Z"
    },
    "papermill": {
     "duration": 0.11142,
     "end_time": "2021-06-21T05:16:21.281875",
     "exception": false,
     "start_time": "2021-06-21T05:16:21.170455",
     "status": "completed"
    },
    "tags": []
   },
   "outputs": [
    {
     "data": {
      "text/plain": [
       "Loan_ID                0\n",
       "Gender                11\n",
       "Married                0\n",
       "Dependents            10\n",
       "Education             84\n",
       "Self_Employed         23\n",
       "ApplicantIncome        0\n",
       "CoapplicantIncome      0\n",
       "LoanAmount             5\n",
       "Loan_Amount_Term       6\n",
       "Credit_History        29\n",
       "Property_Area        116\n",
       "dtype: int64"
      ]
     },
     "execution_count": 30,
     "metadata": {},
     "output_type": "execute_result"
    }
   ],
   "source": [
    "df1.isnull().sum()"
   ]
  },
  {
   "cell_type": "code",
   "execution_count": 31,
   "id": "fallen-burton",
   "metadata": {
    "execution": {
     "iopub.execute_input": "2021-06-21T05:16:21.491832Z",
     "iopub.status.busy": "2021-06-21T05:16:21.490877Z",
     "iopub.status.idle": "2021-06-21T05:16:21.494740Z",
     "shell.execute_reply": "2021-06-21T05:16:21.494129Z",
     "shell.execute_reply.started": "2021-06-21T05:14:57.597943Z"
    },
    "papermill": {
     "duration": 0.115942,
     "end_time": "2021-06-21T05:16:21.494886",
     "exception": false,
     "start_time": "2021-06-21T05:16:21.378944",
     "status": "completed"
    },
    "tags": []
   },
   "outputs": [],
   "source": [
    "df1[\"Gender\"].fillna(df1[\"Gender\"].mode()[0],inplace=True)\n",
    "df1[\"Married\"].fillna(df1[\"Married\"].mode()[0],inplace=True)\n",
    "df1[\"Dependents\"].fillna(df1[\"Dependents\"].mode()[0],inplace=True)\n",
    "df1[\"Self_Employed\"].fillna(df1[\"Self_Employed\"].mode()[0],inplace=True)\n",
    "df1[\"Credit_History\"].fillna(df1[\"Credit_History\"].mode()[0],inplace=True)\n",
    "df1[\"Education\"].fillna(df1[\"Education\"].mode()[0],inplace=True)\n",
    "df1[\"Property_Area\"].fillna(df1[\"Property_Area\"].mode()[0],inplace=True)"
   ]
  },
  {
   "cell_type": "code",
   "execution_count": 32,
   "id": "pressing-interaction",
   "metadata": {
    "execution": {
     "iopub.execute_input": "2021-06-21T05:16:21.704075Z",
     "iopub.status.busy": "2021-06-21T05:16:21.703072Z",
     "iopub.status.idle": "2021-06-21T05:16:21.707932Z",
     "shell.execute_reply": "2021-06-21T05:16:21.708555Z",
     "shell.execute_reply.started": "2021-06-21T05:14:57.613959Z"
    },
    "papermill": {
     "duration": 0.113913,
     "end_time": "2021-06-21T05:16:21.708767",
     "exception": false,
     "start_time": "2021-06-21T05:16:21.594854",
     "status": "completed"
    },
    "tags": []
   },
   "outputs": [
    {
     "data": {
      "text/plain": [
       "360.0    311\n",
       "180.0     22\n",
       "480.0      8\n",
       "300.0      7\n",
       "240.0      4\n",
       "84.0       3\n",
       "60.0       1\n",
       "12.0       1\n",
       "350.0      1\n",
       "36.0       1\n",
       "120.0      1\n",
       "6.0        1\n",
       "Name: Loan_Amount_Term, dtype: int64"
      ]
     },
     "execution_count": 32,
     "metadata": {},
     "output_type": "execute_result"
    }
   ],
   "source": [
    "#Find the missing values in Loan Amount Term to fill\n",
    "df1[\"Loan_Amount_Term\"].value_counts()"
   ]
  },
  {
   "cell_type": "code",
   "execution_count": 33,
   "id": "charged-sauce",
   "metadata": {
    "execution": {
     "iopub.execute_input": "2021-06-21T05:16:21.915823Z",
     "iopub.status.busy": "2021-06-21T05:16:21.914774Z",
     "iopub.status.idle": "2021-06-21T05:16:21.918817Z",
     "shell.execute_reply": "2021-06-21T05:16:21.918203Z",
     "shell.execute_reply.started": "2021-06-21T05:14:57.644228Z"
    },
    "papermill": {
     "duration": 0.108879,
     "end_time": "2021-06-21T05:16:21.918981",
     "exception": false,
     "start_time": "2021-06-21T05:16:21.810102",
     "status": "completed"
    },
    "tags": []
   },
   "outputs": [],
   "source": [
    "df1[\"Loan_Amount_Term\"].fillna(df1[\"Loan_Amount_Term\"].mode()[0],inplace=True)"
   ]
  },
  {
   "cell_type": "code",
   "execution_count": 34,
   "id": "rental-ministry",
   "metadata": {
    "execution": {
     "iopub.execute_input": "2021-06-21T05:16:22.131086Z",
     "iopub.status.busy": "2021-06-21T05:16:22.129996Z",
     "iopub.status.idle": "2021-06-21T05:16:22.133888Z",
     "shell.execute_reply": "2021-06-21T05:16:22.133149Z",
     "shell.execute_reply.started": "2021-06-21T05:14:57.656292Z"
    },
    "papermill": {
     "duration": 0.116496,
     "end_time": "2021-06-21T05:16:22.134055",
     "exception": false,
     "start_time": "2021-06-21T05:16:22.017559",
     "status": "completed"
    },
    "tags": []
   },
   "outputs": [],
   "source": [
    "#Filling the Null values using the Median in LoanAmount\n",
    "df1[\"LoanAmount\"].fillna(df1[\"LoanAmount\"].median(),inplace=True)"
   ]
  },
  {
   "cell_type": "code",
   "execution_count": 35,
   "id": "public-eclipse",
   "metadata": {
    "execution": {
     "iopub.execute_input": "2021-06-21T05:16:22.728099Z",
     "iopub.status.busy": "2021-06-21T05:16:22.727395Z",
     "iopub.status.idle": "2021-06-21T05:16:22.735323Z",
     "shell.execute_reply": "2021-06-21T05:16:22.735875Z",
     "shell.execute_reply.started": "2021-06-21T05:14:57.671371Z"
    },
    "papermill": {
     "duration": 0.111848,
     "end_time": "2021-06-21T05:16:22.736101",
     "exception": false,
     "start_time": "2021-06-21T05:16:22.624253",
     "status": "completed"
    },
    "tags": []
   },
   "outputs": [
    {
     "data": {
      "text/plain": [
       "Loan_ID              0\n",
       "Gender               0\n",
       "Married              0\n",
       "Dependents           0\n",
       "Education            0\n",
       "Self_Employed        0\n",
       "ApplicantIncome      0\n",
       "CoapplicantIncome    0\n",
       "LoanAmount           0\n",
       "Loan_Amount_Term     0\n",
       "Credit_History       0\n",
       "Property_Area        0\n",
       "dtype: int64"
      ]
     },
     "execution_count": 35,
     "metadata": {},
     "output_type": "execute_result"
    }
   ],
   "source": [
    "df1.isnull().sum()"
   ]
  },
  {
   "cell_type": "markdown",
   "id": "fantastic-pursuit",
   "metadata": {
    "papermill": {
     "duration": 0.09862,
     "end_time": "2021-06-21T05:16:22.934587",
     "exception": false,
     "start_time": "2021-06-21T05:16:22.835967",
     "status": "completed"
    },
    "tags": []
   },
   "source": [
    "# FEATURE ENGINEERING"
   ]
  },
  {
   "cell_type": "code",
   "execution_count": 36,
   "id": "early-talent",
   "metadata": {
    "execution": {
     "iopub.execute_input": "2021-06-21T05:16:23.135003Z",
     "iopub.status.busy": "2021-06-21T05:16:23.134314Z",
     "iopub.status.idle": "2021-06-21T05:16:23.140732Z",
     "shell.execute_reply": "2021-06-21T05:16:23.141285Z",
     "shell.execute_reply.started": "2021-06-21T05:14:57.693273Z"
    },
    "papermill": {
     "duration": 0.107922,
     "end_time": "2021-06-21T05:16:23.141519",
     "exception": false,
     "start_time": "2021-06-21T05:16:23.033597",
     "status": "completed"
    },
    "tags": []
   },
   "outputs": [],
   "source": [
    "df['Total_Income']=df[\"ApplicantIncome\"]+df['CoapplicantIncome']\n",
    "df1['Total_Income']=df1[\"ApplicantIncome\"]+df1['CoapplicantIncome']"
   ]
  },
  {
   "cell_type": "code",
   "execution_count": 37,
   "id": "cutting-marketplace",
   "metadata": {
    "execution": {
     "iopub.execute_input": "2021-06-21T05:16:23.340643Z",
     "iopub.status.busy": "2021-06-21T05:16:23.339919Z",
     "iopub.status.idle": "2021-06-21T05:16:23.605334Z",
     "shell.execute_reply": "2021-06-21T05:16:23.605921Z",
     "shell.execute_reply.started": "2021-06-21T05:14:57.708943Z"
    },
    "papermill": {
     "duration": 0.366852,
     "end_time": "2021-06-21T05:16:23.606126",
     "exception": false,
     "start_time": "2021-06-21T05:16:23.239274",
     "status": "completed"
    },
    "tags": []
   },
   "outputs": [
    {
     "name": "stderr",
     "output_type": "stream",
     "text": [
      "c:\\Users\\aswin\\AppData\\Local\\Programs\\Python\\Python310\\lib\\site-packages\\seaborn\\distributions.py:2619: FutureWarning: `distplot` is a deprecated function and will be removed in a future version. Please adapt your code to use either `displot` (a figure-level function with similar flexibility) or `histplot` (an axes-level function for histograms).\n",
      "  warnings.warn(msg, FutureWarning)\n"
     ]
    },
    {
     "data": {
      "text/plain": [
       "<AxesSubplot:xlabel='Total_Income', ylabel='Density'>"
      ]
     },
     "execution_count": 37,
     "metadata": {},
     "output_type": "execute_result"
    },
    {
     "data": {
      "image/png": "[encoded data removed]",
      "text/plain": [
       "<Figure size 432x288 with 1 Axes>"
      ]
     },
     "metadata": {},
     "output_type": "display_data"
    }
   ],
   "source": [
    "sns.set_style('dark')\n",
    "sns.distplot(df[\"Total_Income\"])"
   ]
  },
  {
   "cell_type": "code",
   "execution_count": 38,
   "id": "sudden-enforcement",
   "metadata": {
    "execution": {
     "iopub.execute_input": "2021-06-21T05:16:23.807181Z",
     "iopub.status.busy": "2021-06-21T05:16:23.806559Z",
     "iopub.status.idle": "2021-06-21T05:16:24.246020Z",
     "shell.execute_reply": "2021-06-21T05:16:24.246517Z",
     "shell.execute_reply.started": "2021-06-21T05:14:57.986371Z"
    },
    "papermill": {
     "duration": 0.542376,
     "end_time": "2021-06-21T05:16:24.246704",
     "exception": false,
     "start_time": "2021-06-21T05:16:23.704328",
     "status": "completed"
    },
    "tags": []
   },
   "outputs": [
    {
     "name": "stderr",
     "output_type": "stream",
     "text": [
      "c:\\Users\\aswin\\AppData\\Local\\Programs\\Python\\Python310\\lib\\site-packages\\seaborn\\distributions.py:2619: FutureWarning: `distplot` is a deprecated function and will be removed in a future version. Please adapt your code to use either `displot` (a figure-level function with similar flexibility) or `histplot` (an axes-level function for histograms).\n",
      "  warnings.warn(msg, FutureWarning)\n"
     ]
    },
    {
     "data": {
      "text/plain": [
       "<AxesSubplot:xlabel='Total_Income', ylabel='Density'>"
      ]
     },
     "execution_count": 38,
     "metadata": {},
     "output_type": "execute_result"
    },
    {
     "data": {
      "image/png": "[encoded data removed]",
      "text/plain": [
       "<Figure size 432x288 with 1 Axes>"
      ]
     },
     "metadata": {},
     "output_type": "display_data"
    }
   ],
   "source": [
    "sns.distplot(df1[\"Total_Income\"])"
   ]
  },
  {
   "cell_type": "code",
   "execution_count": 39,
   "id": "subject-independence",
   "metadata": {
    "execution": {
     "iopub.execute_input": "2021-06-21T05:16:24.460768Z",
     "iopub.status.busy": "2021-06-21T05:16:24.460045Z",
     "iopub.status.idle": "2021-06-21T05:16:24.464084Z",
     "shell.execute_reply": "2021-06-21T05:16:24.463282Z",
     "shell.execute_reply.started": "2021-06-21T05:14:58.289961Z"
    },
    "papermill": {
     "duration": 0.113513,
     "end_time": "2021-06-21T05:16:24.464246",
     "exception": false,
     "start_time": "2021-06-21T05:16:24.350733",
     "status": "completed"
    },
    "tags": []
   },
   "outputs": [],
   "source": [
    "df['Total_Income_log']=np.log(df[\"Total_Income\"])\n",
    "df1['Total_Income_log']=np.log(df1[\"Total_Income\"])"
   ]
  },
  {
   "cell_type": "code",
   "execution_count": 40,
   "id": "polyphonic-guarantee",
   "metadata": {
    "execution": {
     "iopub.execute_input": "2021-06-21T05:16:24.699833Z",
     "iopub.status.busy": "2021-06-21T05:16:24.679766Z",
     "iopub.status.idle": "2021-06-21T05:16:24.874395Z",
     "shell.execute_reply": "2021-06-21T05:16:24.873691Z",
     "shell.execute_reply.started": "2021-06-21T05:14:58.299764Z"
    },
    "papermill": {
     "duration": 0.310594,
     "end_time": "2021-06-21T05:16:24.874559",
     "exception": false,
     "start_time": "2021-06-21T05:16:24.563965",
     "status": "completed"
    },
    "tags": []
   },
   "outputs": [
    {
     "name": "stderr",
     "output_type": "stream",
     "text": [
      "c:\\Users\\aswin\\AppData\\Local\\Programs\\Python\\Python310\\lib\\site-packages\\seaborn\\distributions.py:2619: FutureWarning: `distplot` is a deprecated function and will be removed in a future version. Please adapt your code to use either `displot` (a figure-level function with similar flexibility) or `histplot` (an axes-level function for histograms).\n",
      "  warnings.warn(msg, FutureWarning)\n"
     ]
    },
    {
     "data": {
      "text/plain": [
       "<AxesSubplot:xlabel='Total_Income_log', ylabel='Density'>"
      ]
     },
     "execution_count": 40,
     "metadata": {},
     "output_type": "execute_result"
    },
    {
     "data": {
      "image/png": "[encoded data removed]",
      "text/plain": [
       "<Figure size 432x288 with 1 Axes>"
      ]
     },
     "metadata": {},
     "output_type": "display_data"
    }
   ],
   "source": [
    "sns.distplot(df1[\"Total_Income_log\"])"
   ]
  },
  {
   "cell_type": "code",
   "execution_count": 41,
   "id": "wicked-pontiac",
   "metadata": {
    "execution": {
     "iopub.execute_input": "2021-06-21T05:16:25.104193Z",
     "iopub.status.busy": "2021-06-21T05:16:25.092458Z",
     "iopub.status.idle": "2021-06-21T05:16:25.332266Z",
     "shell.execute_reply": "2021-06-21T05:16:25.332797Z",
     "shell.execute_reply.started": "2021-06-21T05:14:58.514598Z"
    },
    "papermill": {
     "duration": 0.353723,
     "end_time": "2021-06-21T05:16:25.332996",
     "exception": false,
     "start_time": "2021-06-21T05:16:24.979273",
     "status": "completed"
    },
    "tags": []
   },
   "outputs": [
    {
     "name": "stderr",
     "output_type": "stream",
     "text": [
      "c:\\Users\\aswin\\AppData\\Local\\Programs\\Python\\Python310\\lib\\site-packages\\seaborn\\distributions.py:2619: FutureWarning: `distplot` is a deprecated function and will be removed in a future version. Please adapt your code to use either `displot` (a figure-level function with similar flexibility) or `histplot` (an axes-level function for histograms).\n",
      "  warnings.warn(msg, FutureWarning)\n"
     ]
    },
    {
     "data": {
      "text/plain": [
       "<AxesSubplot:xlabel='Total_Income_log', ylabel='Density'>"
      ]
     },
     "execution_count": 41,
     "metadata": {},
     "output_type": "execute_result"
    },
    {
     "data": {
      "image/png": "[encoded data removed]",
      "text/plain": [
       "<Figure size 432x288 with 1 Axes>"
      ]
     },
     "metadata": {},
     "output_type": "display_data"
    }
   ],
   "source": [
    "sns.distplot(df[\"Total_Income_log\"])"
   ]
  },
  {
   "cell_type": "code",
   "execution_count": 42,
   "id": "identical-prince",
   "metadata": {
    "execution": {
     "iopub.execute_input": "2021-06-21T05:16:25.548929Z",
     "iopub.status.busy": "2021-06-21T05:16:25.548163Z",
     "iopub.status.idle": "2021-06-21T05:16:25.551083Z",
     "shell.execute_reply": "2021-06-21T05:16:25.550503Z",
     "shell.execute_reply.started": "2021-06-21T05:14:58.760734Z"
    },
    "papermill": {
     "duration": 0.113195,
     "end_time": "2021-06-21T05:16:25.551236",
     "exception": false,
     "start_time": "2021-06-21T05:16:25.438041",
     "status": "completed"
    },
    "tags": []
   },
   "outputs": [],
   "source": [
    "df['EMI']=df[\"LoanAmount\"]/df['Loan_Amount_Term']\n",
    "df1['EMI']=df1[\"LoanAmount\"]/df1['Loan_Amount_Term']"
   ]
  },
  {
   "cell_type": "code",
   "execution_count": 43,
   "id": "veterinary-round",
   "metadata": {
    "execution": {
     "iopub.execute_input": "2021-06-21T05:16:25.792109Z",
     "iopub.status.busy": "2021-06-21T05:16:25.781829Z",
     "iopub.status.idle": "2021-06-21T05:16:26.010145Z",
     "shell.execute_reply": "2021-06-21T05:16:26.009105Z",
     "shell.execute_reply.started": "2021-06-21T05:14:58.772207Z"
    },
    "papermill": {
     "duration": 0.356467,
     "end_time": "2021-06-21T05:16:26.010366",
     "exception": false,
     "start_time": "2021-06-21T05:16:25.653899",
     "status": "completed"
    },
    "tags": []
   },
   "outputs": [
    {
     "name": "stderr",
     "output_type": "stream",
     "text": [
      "c:\\Users\\aswin\\AppData\\Local\\Programs\\Python\\Python310\\lib\\site-packages\\seaborn\\distributions.py:2619: FutureWarning: `distplot` is a deprecated function and will be removed in a future version. Please adapt your code to use either `displot` (a figure-level function with similar flexibility) or `histplot` (an axes-level function for histograms).\n",
      "  warnings.warn(msg, FutureWarning)\n"
     ]
    },
    {
     "data": {
      "text/plain": [
       "<AxesSubplot:xlabel='EMI', ylabel='Density'>"
      ]
     },
     "execution_count": 43,
     "metadata": {},
     "output_type": "execute_result"
    },
    {
     "data": {
      "image/png": "[encoded data removed]",
      "text/plain": [
       "<Figure size 432x288 with 1 Axes>"
      ]
     },
     "metadata": {},
     "output_type": "display_data"
    }
   ],
   "source": [
    "sns.distplot(df[\"EMI\"])"
   ]
  },
  {
   "cell_type": "code",
   "execution_count": 44,
   "id": "vocational-rubber",
   "metadata": {
    "execution": {
     "iopub.execute_input": "2021-06-21T05:16:26.245975Z",
     "iopub.status.busy": "2021-06-21T05:16:26.235961Z",
     "iopub.status.idle": "2021-06-21T05:16:26.482368Z",
     "shell.execute_reply": "2021-06-21T05:16:26.481659Z",
     "shell.execute_reply.started": "2021-06-21T05:14:59.026898Z"
    },
    "papermill": {
     "duration": 0.365854,
     "end_time": "2021-06-21T05:16:26.482548",
     "exception": false,
     "start_time": "2021-06-21T05:16:26.116694",
     "status": "completed"
    },
    "tags": []
   },
   "outputs": [
    {
     "name": "stderr",
     "output_type": "stream",
     "text": [
      "c:\\Users\\aswin\\AppData\\Local\\Programs\\Python\\Python310\\lib\\site-packages\\seaborn\\distributions.py:2619: FutureWarning: `distplot` is a deprecated function and will be removed in a future version. Please adapt your code to use either `displot` (a figure-level function with similar flexibility) or `histplot` (an axes-level function for histograms).\n",
      "  warnings.warn(msg, FutureWarning)\n"
     ]
    },
    {
     "data": {
      "text/plain": [
       "<AxesSubplot:xlabel='EMI', ylabel='Density'>"
      ]
     },
     "execution_count": 44,
     "metadata": {},
     "output_type": "execute_result"
    },
    {
     "data": {
      "image/png": "[encoded data removed]",
      "text/plain": [
       "<Figure size 432x288 with 1 Axes>"
      ]
     },
     "metadata": {},
     "output_type": "display_data"
    }
   ],
   "source": [
    "sns.distplot(df1[\"EMI\"])"
   ]
  },
  {
   "cell_type": "code",
   "execution_count": 45,
   "id": "ordinary-singer",
   "metadata": {
    "execution": {
     "iopub.execute_input": "2021-06-21T05:16:26.776051Z",
     "iopub.status.busy": "2021-06-21T05:16:26.775331Z",
     "iopub.status.idle": "2021-06-21T05:16:26.779234Z",
     "shell.execute_reply": "2021-06-21T05:16:26.778533Z",
     "shell.execute_reply.started": "2021-06-21T05:14:59.290930Z"
    },
    "papermill": {
     "duration": 0.190669,
     "end_time": "2021-06-21T05:16:26.779433",
     "exception": false,
     "start_time": "2021-06-21T05:16:26.588764",
     "status": "completed"
    },
    "tags": []
   },
   "outputs": [],
   "source": [
    "#Multiplying by 1000 to make the units equal \n",
    "df['Balance Income']=df[\"Total_Income\"]-(df['EMI']*1000)\n",
    "df1['Balance Income']=df1[\"Total_Income\"]-(df1['EMI']*1000)"
   ]
  },
  {
   "cell_type": "code",
   "execution_count": 46,
   "id": "wrong-candle",
   "metadata": {
    "execution": {
     "iopub.execute_input": "2021-06-21T05:16:26.999040Z",
     "iopub.status.busy": "2021-06-21T05:16:26.998358Z",
     "iopub.status.idle": "2021-06-21T05:16:27.262972Z",
     "shell.execute_reply": "2021-06-21T05:16:27.263515Z",
     "shell.execute_reply.started": "2021-06-21T05:14:59.299972Z"
    },
    "papermill": {
     "duration": 0.379581,
     "end_time": "2021-06-21T05:16:27.263725",
     "exception": false,
     "start_time": "2021-06-21T05:16:26.884144",
     "status": "completed"
    },
    "tags": []
   },
   "outputs": [
    {
     "name": "stderr",
     "output_type": "stream",
     "text": [
      "c:\\Users\\aswin\\AppData\\Local\\Programs\\Python\\Python310\\lib\\site-packages\\seaborn\\distributions.py:2619: FutureWarning: `distplot` is a deprecated function and will be removed in a future version. Please adapt your code to use either `displot` (a figure-level function with similar flexibility) or `histplot` (an axes-level function for histograms).\n",
      "  warnings.warn(msg, FutureWarning)\n"
     ]
    },
    {
     "data": {
      "text/plain": [
       "<AxesSubplot:xlabel='Balance Income', ylabel='Density'>"
      ]
     },
     "execution_count": 46,
     "metadata": {},
     "output_type": "execute_result"
    },
    {
     "data": {
      "image/png": "[encoded data removed]",
      "text/plain": [
       "<Figure size 432x288 with 1 Axes>"
      ]
     },
     "metadata": {},
     "output_type": "display_data"
    }
   ],
   "source": [
    "sns.distplot(df[\"Balance Income\"])"
   ]
  },
  {
   "cell_type": "code",
   "execution_count": 47,
   "id": "every-sherman",
   "metadata": {
    "execution": {
     "iopub.execute_input": "2021-06-21T05:16:27.482690Z",
     "iopub.status.busy": "2021-06-21T05:16:27.481879Z",
     "iopub.status.idle": "2021-06-21T05:16:27.755366Z",
     "shell.execute_reply": "2021-06-21T05:16:27.754802Z",
     "shell.execute_reply.started": "2021-06-21T05:14:59.574803Z"
    },
    "papermill": {
     "duration": 0.38283,
     "end_time": "2021-06-21T05:16:27.755535",
     "exception": false,
     "start_time": "2021-06-21T05:16:27.372705",
     "status": "completed"
    },
    "tags": []
   },
   "outputs": [
    {
     "name": "stderr",
     "output_type": "stream",
     "text": [
      "c:\\Users\\aswin\\AppData\\Local\\Programs\\Python\\Python310\\lib\\site-packages\\seaborn\\distributions.py:2619: FutureWarning: `distplot` is a deprecated function and will be removed in a future version. Please adapt your code to use either `displot` (a figure-level function with similar flexibility) or `histplot` (an axes-level function for histograms).\n",
      "  warnings.warn(msg, FutureWarning)\n"
     ]
    },
    {
     "data": {
      "text/plain": [
       "<AxesSubplot:xlabel='Balance Income', ylabel='Density'>"
      ]
     },
     "execution_count": 47,
     "metadata": {},
     "output_type": "execute_result"
    },
    {
     "data": {
      "image/png": "[encoded data removed]",
      "text/plain": [
       "<Figure size 432x288 with 1 Axes>"
      ]
     },
     "metadata": {},
     "output_type": "display_data"
    }
   ],
   "source": [
    "sns.distplot(df1[\"Balance Income\"])"
   ]
  },
  {
   "cell_type": "markdown",
   "id": "entitled-helicopter",
   "metadata": {
    "papermill": {
     "duration": 0.107819,
     "end_time": "2021-06-21T05:16:27.970009",
     "exception": false,
     "start_time": "2021-06-21T05:16:27.862190",
     "status": "completed"
    },
    "tags": []
   },
   "source": [
    "# Dropping The variables"
   ]
  },
  {
   "cell_type": "code",
   "execution_count": 48,
   "id": "simple-singing",
   "metadata": {
    "execution": {
     "iopub.execute_input": "2021-06-21T05:16:28.195614Z",
     "iopub.status.busy": "2021-06-21T05:16:28.194611Z",
     "iopub.status.idle": "2021-06-21T05:16:28.200396Z",
     "shell.execute_reply": "2021-06-21T05:16:28.199823Z",
     "shell.execute_reply.started": "2021-06-21T05:14:59.853217Z"
    },
    "papermill": {
     "duration": 0.122906,
     "end_time": "2021-06-21T05:16:28.200572",
     "exception": false,
     "start_time": "2021-06-21T05:16:28.077666",
     "status": "completed"
    },
    "tags": []
   },
   "outputs": [],
   "source": [
    "df=df.drop([\"Loan_ID\",\"ApplicantIncome\",\"CoapplicantIncome\",\"LoanAmount\",\"Loan_Amount_Term\"],axis=1)"
   ]
  },
  {
   "cell_type": "code",
   "execution_count": 49,
   "id": "bulgarian-process",
   "metadata": {
    "execution": {
     "iopub.execute_input": "2021-06-21T05:16:28.425208Z",
     "iopub.status.busy": "2021-06-21T05:16:28.423449Z",
     "iopub.status.idle": "2021-06-21T05:16:28.429621Z",
     "shell.execute_reply": "2021-06-21T05:16:28.428852Z",
     "shell.execute_reply.started": "2021-06-21T05:14:59.862411Z"
    },
    "papermill": {
     "duration": 0.12065,
     "end_time": "2021-06-21T05:16:28.429819",
     "exception": false,
     "start_time": "2021-06-21T05:16:28.309169",
     "status": "completed"
    },
    "tags": []
   },
   "outputs": [],
   "source": [
    "df1=df1.drop([\"ApplicantIncome\",\"CoapplicantIncome\",\"LoanAmount\",\"Loan_Amount_Term\"],axis=1)"
   ]
  },
  {
   "cell_type": "code",
   "execution_count": 50,
   "id": "cutting-importance",
   "metadata": {
    "execution": {
     "iopub.execute_input": "2021-06-21T05:16:28.677205Z",
     "iopub.status.busy": "2021-06-21T05:16:28.664419Z",
     "iopub.status.idle": "2021-06-21T05:16:28.688752Z",
     "shell.execute_reply": "2021-06-21T05:16:28.688106Z",
     "shell.execute_reply.started": "2021-06-21T05:14:59.879679Z"
    },
    "papermill": {
     "duration": 0.15024,
     "end_time": "2021-06-21T05:16:28.688923",
     "exception": false,
     "start_time": "2021-06-21T05:16:28.538683",
     "status": "completed"
    },
    "tags": []
   },
   "outputs": [
    {
     "data": {
      "text/html": [
       "<div>\n",
       "<style scoped>\n",
       "    .dataframe tbody tr th:only-of-type {\n",
       "        vertical-align: middle;\n",
       "    }\n",
       "\n",
       "    .dataframe tbody tr th {\n",
       "        vertical-align: top;\n",
       "    }\n",
       "\n",
       "    .dataframe thead th {\n",
       "        text-align: right;\n",
       "    }\n",
       "</style>\n",
       "<table border=\"1\" class=\"dataframe\">\n",
       "  <thead>\n",
       "    <tr style=\"text-align: right;\">\n",
       "      <th></th>\n",
       "      <th>Gender</th>\n",
       "      <th>Married</th>\n",
       "      <th>Dependents</th>\n",
       "      <th>Education</th>\n",
       "      <th>Self_Employed</th>\n",
       "      <th>Credit_History</th>\n",
       "      <th>Property_Area</th>\n",
       "      <th>Loan_Status</th>\n",
       "      <th>Total_Income</th>\n",
       "      <th>Total_Income_log</th>\n",
       "      <th>EMI</th>\n",
       "      <th>Balance Income</th>\n",
       "    </tr>\n",
       "  </thead>\n",
       "  <tbody>\n",
       "    <tr>\n",
       "      <th>0</th>\n",
       "      <td>1.0</td>\n",
       "      <td>0.0</td>\n",
       "      <td>0.0</td>\n",
       "      <td>0.0</td>\n",
       "      <td>0</td>\n",
       "      <td>1.0</td>\n",
       "      <td>0.0</td>\n",
       "      <td>1</td>\n",
       "      <td>5849.0</td>\n",
       "      <td>8.674026</td>\n",
       "      <td>0.406700</td>\n",
       "      <td>5442.299550</td>\n",
       "    </tr>\n",
       "    <tr>\n",
       "      <th>1</th>\n",
       "      <td>1.0</td>\n",
       "      <td>1.0</td>\n",
       "      <td>1.0</td>\n",
       "      <td>0.0</td>\n",
       "      <td>0</td>\n",
       "      <td>1.0</td>\n",
       "      <td>1.0</td>\n",
       "      <td>0</td>\n",
       "      <td>6091.0</td>\n",
       "      <td>8.714568</td>\n",
       "      <td>0.355556</td>\n",
       "      <td>5735.444444</td>\n",
       "    </tr>\n",
       "    <tr>\n",
       "      <th>2</th>\n",
       "      <td>1.0</td>\n",
       "      <td>1.0</td>\n",
       "      <td>0.0</td>\n",
       "      <td>0.0</td>\n",
       "      <td>1</td>\n",
       "      <td>1.0</td>\n",
       "      <td>0.0</td>\n",
       "      <td>1</td>\n",
       "      <td>3000.0</td>\n",
       "      <td>8.006368</td>\n",
       "      <td>0.183333</td>\n",
       "      <td>2816.666667</td>\n",
       "    </tr>\n",
       "    <tr>\n",
       "      <th>3</th>\n",
       "      <td>1.0</td>\n",
       "      <td>1.0</td>\n",
       "      <td>0.0</td>\n",
       "      <td>0.0</td>\n",
       "      <td>0</td>\n",
       "      <td>1.0</td>\n",
       "      <td>0.0</td>\n",
       "      <td>1</td>\n",
       "      <td>4941.0</td>\n",
       "      <td>8.505323</td>\n",
       "      <td>0.333333</td>\n",
       "      <td>4607.666667</td>\n",
       "    </tr>\n",
       "    <tr>\n",
       "      <th>4</th>\n",
       "      <td>1.0</td>\n",
       "      <td>0.0</td>\n",
       "      <td>0.0</td>\n",
       "      <td>0.0</td>\n",
       "      <td>0</td>\n",
       "      <td>1.0</td>\n",
       "      <td>0.0</td>\n",
       "      <td>1</td>\n",
       "      <td>6000.0</td>\n",
       "      <td>8.699515</td>\n",
       "      <td>0.391667</td>\n",
       "      <td>5608.333333</td>\n",
       "    </tr>\n",
       "    <tr>\n",
       "      <th>...</th>\n",
       "      <td>...</td>\n",
       "      <td>...</td>\n",
       "      <td>...</td>\n",
       "      <td>...</td>\n",
       "      <td>...</td>\n",
       "      <td>...</td>\n",
       "      <td>...</td>\n",
       "      <td>...</td>\n",
       "      <td>...</td>\n",
       "      <td>...</td>\n",
       "      <td>...</td>\n",
       "      <td>...</td>\n",
       "    </tr>\n",
       "    <tr>\n",
       "      <th>609</th>\n",
       "      <td>0.0</td>\n",
       "      <td>0.0</td>\n",
       "      <td>0.0</td>\n",
       "      <td>0.0</td>\n",
       "      <td>0</td>\n",
       "      <td>1.0</td>\n",
       "      <td>1.0</td>\n",
       "      <td>1</td>\n",
       "      <td>2900.0</td>\n",
       "      <td>7.972466</td>\n",
       "      <td>0.197222</td>\n",
       "      <td>2702.777778</td>\n",
       "    </tr>\n",
       "    <tr>\n",
       "      <th>610</th>\n",
       "      <td>1.0</td>\n",
       "      <td>1.0</td>\n",
       "      <td>3.0</td>\n",
       "      <td>0.0</td>\n",
       "      <td>0</td>\n",
       "      <td>1.0</td>\n",
       "      <td>1.0</td>\n",
       "      <td>1</td>\n",
       "      <td>4106.0</td>\n",
       "      <td>8.320205</td>\n",
       "      <td>0.222222</td>\n",
       "      <td>3883.777778</td>\n",
       "    </tr>\n",
       "    <tr>\n",
       "      <th>611</th>\n",
       "      <td>1.0</td>\n",
       "      <td>1.0</td>\n",
       "      <td>1.0</td>\n",
       "      <td>0.0</td>\n",
       "      <td>0</td>\n",
       "      <td>1.0</td>\n",
       "      <td>0.0</td>\n",
       "      <td>1</td>\n",
       "      <td>8312.0</td>\n",
       "      <td>9.025456</td>\n",
       "      <td>0.702778</td>\n",
       "      <td>7609.222222</td>\n",
       "    </tr>\n",
       "    <tr>\n",
       "      <th>612</th>\n",
       "      <td>1.0</td>\n",
       "      <td>1.0</td>\n",
       "      <td>2.0</td>\n",
       "      <td>0.0</td>\n",
       "      <td>0</td>\n",
       "      <td>1.0</td>\n",
       "      <td>0.0</td>\n",
       "      <td>1</td>\n",
       "      <td>7583.0</td>\n",
       "      <td>8.933664</td>\n",
       "      <td>0.519444</td>\n",
       "      <td>7063.555556</td>\n",
       "    </tr>\n",
       "    <tr>\n",
       "      <th>613</th>\n",
       "      <td>0.0</td>\n",
       "      <td>0.0</td>\n",
       "      <td>0.0</td>\n",
       "      <td>0.0</td>\n",
       "      <td>1</td>\n",
       "      <td>0.0</td>\n",
       "      <td>0.0</td>\n",
       "      <td>0</td>\n",
       "      <td>4583.0</td>\n",
       "      <td>8.430109</td>\n",
       "      <td>0.369444</td>\n",
       "      <td>4213.555556</td>\n",
       "    </tr>\n",
       "  </tbody>\n",
       "</table>\n",
       "<p>614 rows × 12 columns</p>\n",
       "</div>"
      ],
      "text/plain": [
       "     Gender  Married  Dependents  Education  Self_Employed  Credit_History  \\\n",
       "0       1.0      0.0         0.0        0.0              0             1.0   \n",
       "1       1.0      1.0         1.0        0.0              0             1.0   \n",
       "2       1.0      1.0         0.0        0.0              1             1.0   \n",
       "3       1.0      1.0         0.0        0.0              0             1.0   \n",
       "4       1.0      0.0         0.0        0.0              0             1.0   \n",
       "..      ...      ...         ...        ...            ...             ...   \n",
       "609     0.0      0.0         0.0        0.0              0             1.0   \n",
       "610     1.0      1.0         3.0        0.0              0             1.0   \n",
       "611     1.0      1.0         1.0        0.0              0             1.0   \n",
       "612     1.0      1.0         2.0        0.0              0             1.0   \n",
       "613     0.0      0.0         0.0        0.0              1             0.0   \n",
       "\n",
       "     Property_Area  Loan_Status  Total_Income  Total_Income_log       EMI  \\\n",
       "0              0.0            1        5849.0          8.674026  0.406700   \n",
       "1              1.0            0        6091.0          8.714568  0.355556   \n",
       "2              0.0            1        3000.0          8.006368  0.183333   \n",
       "3              0.0            1        4941.0          8.505323  0.333333   \n",
       "4              0.0            1        6000.0          8.699515  0.391667   \n",
       "..             ...          ...           ...               ...       ...   \n",
       "609            1.0            1        2900.0          7.972466  0.197222   \n",
       "610            1.0            1        4106.0          8.320205  0.222222   \n",
       "611            0.0            1        8312.0          9.025456  0.702778   \n",
       "612            0.0            1        7583.0          8.933664  0.519444   \n",
       "613            0.0            0        4583.0          8.430109  0.369444   \n",
       "\n",
       "     Balance Income  \n",
       "0       5442.299550  \n",
       "1       5735.444444  \n",
       "2       2816.666667  \n",
       "3       4607.666667  \n",
       "4       5608.333333  \n",
       "..              ...  \n",
       "609     2702.777778  \n",
       "610     3883.777778  \n",
       "611     7609.222222  \n",
       "612     7063.555556  \n",
       "613     4213.555556  \n",
       "\n",
       "[614 rows x 12 columns]"
      ]
     },
     "execution_count": 50,
     "metadata": {},
     "output_type": "execute_result"
    }
   ],
   "source": [
    "df"
   ]
  },
  {
   "cell_type": "code",
   "execution_count": 51,
   "id": "clean-anderson",
   "metadata": {
    "execution": {
     "iopub.execute_input": "2021-06-21T05:16:28.956882Z",
     "iopub.status.busy": "2021-06-21T05:16:28.955763Z",
     "iopub.status.idle": "2021-06-21T05:16:28.958258Z",
     "shell.execute_reply": "2021-06-21T05:16:28.958789Z",
     "shell.execute_reply.started": "2021-06-21T05:14:59.918378Z"
    },
    "papermill": {
     "duration": 0.155842,
     "end_time": "2021-06-21T05:16:28.958992",
     "exception": false,
     "start_time": "2021-06-21T05:16:28.803150",
     "status": "completed"
    },
    "tags": []
   },
   "outputs": [],
   "source": [
    "df1=df1.drop(\"Loan_ID\",axis=1)"
   ]
  },
  {
   "cell_type": "code",
   "execution_count": 52,
   "id": "hollywood-knight",
   "metadata": {
    "execution": {
     "iopub.execute_input": "2021-06-21T05:16:29.212126Z",
     "iopub.status.busy": "2021-06-21T05:16:29.211131Z",
     "iopub.status.idle": "2021-06-21T05:16:29.242981Z",
     "shell.execute_reply": "2021-06-21T05:16:29.242315Z",
     "shell.execute_reply.started": "2021-06-21T05:14:59.929207Z"
    },
    "papermill": {
     "duration": 0.169794,
     "end_time": "2021-06-21T05:16:29.243155",
     "exception": false,
     "start_time": "2021-06-21T05:16:29.073361",
     "status": "completed"
    },
    "tags": []
   },
   "outputs": [
    {
     "data": {
      "text/html": [
       "<div>\n",
       "<style scoped>\n",
       "    .dataframe tbody tr th:only-of-type {\n",
       "        vertical-align: middle;\n",
       "    }\n",
       "\n",
       "    .dataframe tbody tr th {\n",
       "        vertical-align: top;\n",
       "    }\n",
       "\n",
       "    .dataframe thead th {\n",
       "        text-align: right;\n",
       "    }\n",
       "</style>\n",
       "<table border=\"1\" class=\"dataframe\">\n",
       "  <thead>\n",
       "    <tr style=\"text-align: right;\">\n",
       "      <th></th>\n",
       "      <th>Gender</th>\n",
       "      <th>Married</th>\n",
       "      <th>Dependents</th>\n",
       "      <th>Education</th>\n",
       "      <th>Self_Employed</th>\n",
       "      <th>Credit_History</th>\n",
       "      <th>Property_Area</th>\n",
       "      <th>Total_Income</th>\n",
       "      <th>Total_Income_log</th>\n",
       "      <th>EMI</th>\n",
       "      <th>Balance Income</th>\n",
       "    </tr>\n",
       "  </thead>\n",
       "  <tbody>\n",
       "    <tr>\n",
       "      <th>0</th>\n",
       "      <td>1.0</td>\n",
       "      <td>1</td>\n",
       "      <td>0.0</td>\n",
       "      <td>0.0</td>\n",
       "      <td>0.0</td>\n",
       "      <td>1.0</td>\n",
       "      <td>0.0</td>\n",
       "      <td>5720</td>\n",
       "      <td>8.651724</td>\n",
       "      <td>0.305556</td>\n",
       "      <td>5414.444444</td>\n",
       "    </tr>\n",
       "    <tr>\n",
       "      <th>1</th>\n",
       "      <td>1.0</td>\n",
       "      <td>1</td>\n",
       "      <td>1.0</td>\n",
       "      <td>0.0</td>\n",
       "      <td>0.0</td>\n",
       "      <td>1.0</td>\n",
       "      <td>0.0</td>\n",
       "      <td>4576</td>\n",
       "      <td>8.428581</td>\n",
       "      <td>0.350000</td>\n",
       "      <td>4226.000000</td>\n",
       "    </tr>\n",
       "    <tr>\n",
       "      <th>2</th>\n",
       "      <td>1.0</td>\n",
       "      <td>1</td>\n",
       "      <td>2.0</td>\n",
       "      <td>0.0</td>\n",
       "      <td>0.0</td>\n",
       "      <td>1.0</td>\n",
       "      <td>0.0</td>\n",
       "      <td>6800</td>\n",
       "      <td>8.824678</td>\n",
       "      <td>0.577778</td>\n",
       "      <td>6222.222222</td>\n",
       "    </tr>\n",
       "    <tr>\n",
       "      <th>3</th>\n",
       "      <td>1.0</td>\n",
       "      <td>1</td>\n",
       "      <td>2.0</td>\n",
       "      <td>0.0</td>\n",
       "      <td>0.0</td>\n",
       "      <td>1.0</td>\n",
       "      <td>0.0</td>\n",
       "      <td>4886</td>\n",
       "      <td>8.494129</td>\n",
       "      <td>0.277778</td>\n",
       "      <td>4608.222222</td>\n",
       "    </tr>\n",
       "    <tr>\n",
       "      <th>4</th>\n",
       "      <td>1.0</td>\n",
       "      <td>0</td>\n",
       "      <td>0.0</td>\n",
       "      <td>0.0</td>\n",
       "      <td>0.0</td>\n",
       "      <td>1.0</td>\n",
       "      <td>0.0</td>\n",
       "      <td>3276</td>\n",
       "      <td>8.094378</td>\n",
       "      <td>0.216667</td>\n",
       "      <td>3059.333333</td>\n",
       "    </tr>\n",
       "    <tr>\n",
       "      <th>...</th>\n",
       "      <td>...</td>\n",
       "      <td>...</td>\n",
       "      <td>...</td>\n",
       "      <td>...</td>\n",
       "      <td>...</td>\n",
       "      <td>...</td>\n",
       "      <td>...</td>\n",
       "      <td>...</td>\n",
       "      <td>...</td>\n",
       "      <td>...</td>\n",
       "      <td>...</td>\n",
       "    </tr>\n",
       "    <tr>\n",
       "      <th>362</th>\n",
       "      <td>1.0</td>\n",
       "      <td>1</td>\n",
       "      <td>3.0</td>\n",
       "      <td>0.0</td>\n",
       "      <td>1.0</td>\n",
       "      <td>1.0</td>\n",
       "      <td>0.0</td>\n",
       "      <td>5786</td>\n",
       "      <td>8.663196</td>\n",
       "      <td>0.313889</td>\n",
       "      <td>5472.111111</td>\n",
       "    </tr>\n",
       "    <tr>\n",
       "      <th>363</th>\n",
       "      <td>1.0</td>\n",
       "      <td>1</td>\n",
       "      <td>0.0</td>\n",
       "      <td>0.0</td>\n",
       "      <td>0.0</td>\n",
       "      <td>1.0</td>\n",
       "      <td>0.0</td>\n",
       "      <td>4867</td>\n",
       "      <td>8.490233</td>\n",
       "      <td>0.319444</td>\n",
       "      <td>4547.555556</td>\n",
       "    </tr>\n",
       "    <tr>\n",
       "      <th>364</th>\n",
       "      <td>1.0</td>\n",
       "      <td>0</td>\n",
       "      <td>0.0</td>\n",
       "      <td>0.0</td>\n",
       "      <td>0.0</td>\n",
       "      <td>1.0</td>\n",
       "      <td>0.0</td>\n",
       "      <td>5243</td>\n",
       "      <td>8.564649</td>\n",
       "      <td>0.350000</td>\n",
       "      <td>4893.000000</td>\n",
       "    </tr>\n",
       "    <tr>\n",
       "      <th>365</th>\n",
       "      <td>1.0</td>\n",
       "      <td>1</td>\n",
       "      <td>0.0</td>\n",
       "      <td>0.0</td>\n",
       "      <td>0.0</td>\n",
       "      <td>1.0</td>\n",
       "      <td>1.0</td>\n",
       "      <td>7393</td>\n",
       "      <td>8.908289</td>\n",
       "      <td>0.438889</td>\n",
       "      <td>6954.111111</td>\n",
       "    </tr>\n",
       "    <tr>\n",
       "      <th>366</th>\n",
       "      <td>1.0</td>\n",
       "      <td>0</td>\n",
       "      <td>0.0</td>\n",
       "      <td>0.0</td>\n",
       "      <td>1.0</td>\n",
       "      <td>1.0</td>\n",
       "      <td>1.0</td>\n",
       "      <td>9200</td>\n",
       "      <td>9.126959</td>\n",
       "      <td>0.544444</td>\n",
       "      <td>8655.555556</td>\n",
       "    </tr>\n",
       "  </tbody>\n",
       "</table>\n",
       "<p>367 rows × 11 columns</p>\n",
       "</div>"
      ],
      "text/plain": [
       "     Gender  Married  Dependents  Education  Self_Employed  Credit_History  \\\n",
       "0       1.0        1         0.0        0.0            0.0             1.0   \n",
       "1       1.0        1         1.0        0.0            0.0             1.0   \n",
       "2       1.0        1         2.0        0.0            0.0             1.0   \n",
       "3       1.0        1         2.0        0.0            0.0             1.0   \n",
       "4       1.0        0         0.0        0.0            0.0             1.0   \n",
       "..      ...      ...         ...        ...            ...             ...   \n",
       "362     1.0        1         3.0        0.0            1.0             1.0   \n",
       "363     1.0        1         0.0        0.0            0.0             1.0   \n",
       "364     1.0        0         0.0        0.0            0.0             1.0   \n",
       "365     1.0        1         0.0        0.0            0.0             1.0   \n",
       "366     1.0        0         0.0        0.0            1.0             1.0   \n",
       "\n",
       "     Property_Area  Total_Income  Total_Income_log       EMI  Balance Income  \n",
       "0              0.0          5720          8.651724  0.305556     5414.444444  \n",
       "1              0.0          4576          8.428581  0.350000     4226.000000  \n",
       "2              0.0          6800          8.824678  0.577778     6222.222222  \n",
       "3              0.0          4886          8.494129  0.277778     4608.222222  \n",
       "4              0.0          3276          8.094378  0.216667     3059.333333  \n",
       "..             ...           ...               ...       ...             ...  \n",
       "362            0.0          5786          8.663196  0.313889     5472.111111  \n",
       "363            0.0          4867          8.490233  0.319444     4547.555556  \n",
       "364            0.0          5243          8.564649  0.350000     4893.000000  \n",
       "365            1.0          7393          8.908289  0.438889     6954.111111  \n",
       "366            1.0          9200          9.126959  0.544444     8655.555556  \n",
       "\n",
       "[367 rows x 11 columns]"
      ]
     },
     "execution_count": 52,
     "metadata": {},
     "output_type": "execute_result"
    }
   ],
   "source": [
    "df1"
   ]
  },
  {
   "cell_type": "code",
   "execution_count": 53,
   "id": "angry-trademark",
   "metadata": {
    "execution": {
     "iopub.execute_input": "2021-06-21T05:16:29.480412Z",
     "iopub.status.busy": "2021-06-21T05:16:29.479522Z",
     "iopub.status.idle": "2021-06-21T05:16:29.483552Z",
     "shell.execute_reply": "2021-06-21T05:16:29.484048Z",
     "shell.execute_reply.started": "2021-06-21T05:14:59.965318Z"
    },
    "papermill": {
     "duration": 0.127583,
     "end_time": "2021-06-21T05:16:29.484243",
     "exception": false,
     "start_time": "2021-06-21T05:16:29.356660",
     "status": "completed"
    },
    "tags": []
   },
   "outputs": [
    {
     "data": {
      "text/plain": [
       "Gender              float64\n",
       "Married             float64\n",
       "Dependents          float64\n",
       "Education           float64\n",
       "Self_Employed         int64\n",
       "Credit_History      float64\n",
       "Property_Area       float64\n",
       "Loan_Status           int64\n",
       "Total_Income        float64\n",
       "Total_Income_log    float64\n",
       "EMI                 float64\n",
       "Balance Income      float64\n",
       "dtype: object"
      ]
     },
     "execution_count": 53,
     "metadata": {},
     "output_type": "execute_result"
    }
   ],
   "source": [
    "df.dtypes"
   ]
  },
  {
   "cell_type": "code",
   "execution_count": 54,
   "id": "entire-authority",
   "metadata": {
    "execution": {
     "iopub.execute_input": "2021-06-21T05:16:29.707834Z",
     "iopub.status.busy": "2021-06-21T05:16:29.707154Z",
     "iopub.status.idle": "2021-06-21T05:16:29.714529Z",
     "shell.execute_reply": "2021-06-21T05:16:29.713915Z",
     "shell.execute_reply.started": "2021-06-21T05:14:59.974126Z"
    },
    "papermill": {
     "duration": 0.121089,
     "end_time": "2021-06-21T05:16:29.714691",
     "exception": false,
     "start_time": "2021-06-21T05:16:29.593602",
     "status": "completed"
    },
    "tags": []
   },
   "outputs": [
    {
     "data": {
      "text/plain": [
       "Gender              float64\n",
       "Married               int64\n",
       "Dependents          float64\n",
       "Education           float64\n",
       "Self_Employed       float64\n",
       "Credit_History      float64\n",
       "Property_Area       float64\n",
       "Total_Income          int64\n",
       "Total_Income_log    float64\n",
       "EMI                 float64\n",
       "Balance Income      float64\n",
       "dtype: object"
      ]
     },
     "execution_count": 54,
     "metadata": {},
     "output_type": "execute_result"
    }
   ],
   "source": [
    "df1.dtypes"
   ]
  },
  {
   "cell_type": "markdown",
   "id": "bigger-empty",
   "metadata": {
    "papermill": {
     "duration": 0.109972,
     "end_time": "2021-06-21T05:16:29.933352",
     "exception": false,
     "start_time": "2021-06-21T05:16:29.823380",
     "status": "completed"
    },
    "tags": []
   },
   "source": [
    "# Logistic Regression"
   ]
  },
  {
   "cell_type": "code",
   "execution_count": 55,
   "id": "little-buffalo",
   "metadata": {
    "execution": {
     "iopub.execute_input": "2021-06-21T05:16:30.159665Z",
     "iopub.status.busy": "2021-06-21T05:16:30.158910Z",
     "iopub.status.idle": "2021-06-21T05:16:30.531044Z",
     "shell.execute_reply": "2021-06-21T05:16:30.530266Z",
     "shell.execute_reply.started": "2021-06-21T05:14:59.991284Z"
    },
    "papermill": {
     "duration": 0.48605,
     "end_time": "2021-06-21T05:16:30.531213",
     "exception": false,
     "start_time": "2021-06-21T05:16:30.045163",
     "status": "completed"
    },
    "tags": []
   },
   "outputs": [],
   "source": [
    "from sklearn. model_selection import StratifiedKFold\n",
    "from sklearn.linear_model import LogisticRegression\n",
    "from sklearn. model_selection import train_test_split\n",
    "from sklearn.metrics import accuracy_score"
   ]
  },
  {
   "cell_type": "code",
   "execution_count": 56,
   "id": "ranging-foundation",
   "metadata": {
    "execution": {
     "iopub.execute_input": "2021-06-21T05:16:30.759067Z",
     "iopub.status.busy": "2021-06-21T05:16:30.757947Z",
     "iopub.status.idle": "2021-06-21T05:16:30.762070Z",
     "shell.execute_reply": "2021-06-21T05:16:30.761358Z",
     "shell.execute_reply.started": "2021-06-21T05:15:00.346734Z"
    },
    "papermill": {
     "duration": 0.12029,
     "end_time": "2021-06-21T05:16:30.762238",
     "exception": false,
     "start_time": "2021-06-21T05:16:30.641948",
     "status": "completed"
    },
    "tags": []
   },
   "outputs": [
    {
     "name": "stderr",
     "output_type": "stream",
     "text": [
      "C:\\Users\\aswin\\AppData\\Local\\Temp\\ipykernel_6332\\2798480604.py:1: FutureWarning: In a future version of pandas all arguments of DataFrame.drop except for the argument 'labels' will be keyword-only.\n",
      "  X=df.drop(\"Loan_Status\",1)\n"
     ]
    }
   ],
   "source": [
    "X=df.drop(\"Loan_Status\",1)\n",
    "y=df.Loan_Status"
   ]
  },
  {
   "cell_type": "code",
   "execution_count": 57,
   "id": "grand-prediction",
   "metadata": {
    "execution": {
     "iopub.execute_input": "2021-06-21T05:16:30.998230Z",
     "iopub.status.busy": "2021-06-21T05:16:30.997226Z",
     "iopub.status.idle": "2021-06-21T05:16:31.000521Z",
     "shell.execute_reply": "2021-06-21T05:16:30.999858Z",
     "shell.execute_reply.started": "2021-06-21T05:15:00.354172Z"
    },
    "papermill": {
     "duration": 0.128868,
     "end_time": "2021-06-21T05:16:31.000683",
     "exception": false,
     "start_time": "2021-06-21T05:16:30.871815",
     "status": "completed"
    },
    "tags": []
   },
   "outputs": [],
   "source": [
    "#Logistic Regression\n",
    "\n",
    "X=pd.get_dummies(X)\n",
    "df=pd.get_dummies(df)\n"
   ]
  },
  {
   "cell_type": "code",
   "execution_count": 58,
   "id": "front-example",
   "metadata": {
    "execution": {
     "iopub.execute_input": "2021-06-21T05:16:31.227924Z",
     "iopub.status.busy": "2021-06-21T05:16:31.227184Z",
     "iopub.status.idle": "2021-06-21T05:16:31.230176Z",
     "shell.execute_reply": "2021-06-21T05:16:31.230777Z",
     "shell.execute_reply.started": "2021-06-21T05:15:00.377204Z"
    },
    "papermill": {
     "duration": 0.120904,
     "end_time": "2021-06-21T05:16:31.230991",
     "exception": false,
     "start_time": "2021-06-21T05:16:31.110087",
     "status": "completed"
    },
    "tags": []
   },
   "outputs": [],
   "source": [
    "x_train,x_test,y_train,y_test=train_test_split(X,y,test_size=0.3)"
   ]
  },
  {
   "cell_type": "code",
   "execution_count": 59,
   "id": "filled-acrylic",
   "metadata": {
    "execution": {
     "iopub.execute_input": "2021-06-21T05:16:31.455021Z",
     "iopub.status.busy": "2021-06-21T05:16:31.454309Z",
     "iopub.status.idle": "2021-06-21T05:16:31.489207Z",
     "shell.execute_reply": "2021-06-21T05:16:31.489789Z",
     "shell.execute_reply.started": "2021-06-21T05:15:00.386399Z"
    },
    "papermill": {
     "duration": 0.149775,
     "end_time": "2021-06-21T05:16:31.490022",
     "exception": false,
     "start_time": "2021-06-21T05:16:31.340247",
     "status": "completed"
    },
    "tags": []
   },
   "outputs": [
    {
     "data": {
      "text/html": [
       "<style>#sk-container-id-1 {color: black;background-color: white;}#sk-container-id-1 pre{padding: 0;}#sk-container-id-1 div.sk-toggleable {background-color: white;}#sk-container-id-1 label.sk-toggleable__label {cursor: pointer;display: block;width: 100%;margin-bottom: 0;padding: 0.3em;box-sizing: border-box;text-align: center;}#sk-container-id-1 label.sk-toggleable__label-arrow:before {content: \"▸\";float: left;margin-right: 0.25em;color: #696969;}#sk-container-id-1 label.sk-toggleable__label-arrow:hover:before {color: black;}#sk-container-id-1 div.sk-estimator:hover label.sk-toggleable__label-arrow:before {color: black;}#sk-container-id-1 div.sk-toggleable__content {max-height: 0;max-width: 0;overflow: hidden;text-align: left;background-color: #f0f8ff;}#sk-container-id-1 div.sk-toggleable__content pre {margin: 0.2em;color: black;border-radius: 0.25em;background-color: #f0f8ff;}#sk-container-id-1 input.sk-toggleable__control:checked~div.sk-toggleable__content {max-height: 200px;max-width: 100%;overflow: auto;}#sk-container-id-1 input.sk-toggleable__control:checked~label.sk-toggleable__label-arrow:before {content: \"▾\";}#sk-container-id-1 div.sk-estimator input.sk-toggleable__control:checked~label.sk-toggleable__label {background-color: #d4ebff;}#sk-container-id-1 div.sk-label input.sk-toggleable__control:checked~label.sk-toggleable__label {background-color: #d4ebff;}#sk-container-id-1 input.sk-hidden--visually {border: 0;clip: rect(1px 1px 1px 1px);clip: rect(1px, 1px, 1px, 1px);height: 1px;margin: -1px;overflow: hidden;padding: 0;position: absolute;width: 1px;}#sk-container-id-1 div.sk-estimator {font-family: monospace;background-color: #f0f8ff;border: 1px dotted black;border-radius: 0.25em;box-sizing: border-box;margin-bottom: 0.5em;}#sk-container-id-1 div.sk-estimator:hover {background-color: #d4ebff;}#sk-container-id-1 div.sk-parallel-item::after {content: \"\";width: 100%;border-bottom: 1px solid gray;flex-grow: 1;}#sk-container-id-1 div.sk-label:hover label.sk-toggleable__label {background-color: #d4ebff;}#sk-container-id-1 div.sk-serial::before {content: \"\";position: absolute;border-left: 1px solid gray;box-sizing: border-box;top: 0;bottom: 0;left: 50%;z-index: 0;}#sk-container-id-1 div.sk-serial {display: flex;flex-direction: column;align-items: center;background-color: white;padding-right: 0.2em;padding-left: 0.2em;position: relative;}#sk-container-id-1 div.sk-item {position: relative;z-index: 1;}#sk-container-id-1 div.sk-parallel {display: flex;align-items: stretch;justify-content: center;background-color: white;position: relative;}#sk-container-id-1 div.sk-item::before, #sk-container-id-1 div.sk-parallel-item::before {content: \"\";position: absolute;border-left: 1px solid gray;box-sizing: border-box;top: 0;bottom: 0;left: 50%;z-index: -1;}#sk-container-id-1 div.sk-parallel-item {display: flex;flex-direction: column;z-index: 1;position: relative;background-color: white;}#sk-container-id-1 div.sk-parallel-item:first-child::after {align-self: flex-end;width: 50%;}#sk-container-id-1 div.sk-parallel-item:last-child::after {align-self: flex-start;width: 50%;}#sk-container-id-1 div.sk-parallel-item:only-child::after {width: 0;}#sk-container-id-1 div.sk-dashed-wrapped {border: 1px dashed gray;margin: 0 0.4em 0.5em 0.4em;box-sizing: border-box;padding-bottom: 0.4em;background-color: white;}#sk-container-id-1 div.sk-label label {font-family: monospace;font-weight: bold;display: inline-block;line-height: 1.2em;}#sk-container-id-1 div.sk-label-container {text-align: center;}#sk-container-id-1 div.sk-container {/* jupyter's `normalize.less` sets `[hidden] { display: none; }` but bootstrap.min.css set `[hidden] { display: none !important; }` so we also need the `!important` here to be able to override the default hidden behavior on the sphinx rendered scikit-learn.org. See: https://github.com/scikit-learn/scikit-learn/issues/21755 */display: inline-block !important;position: relative;}#sk-container-id-1 div.sk-text-repr-fallback {display: none;}</style><div id=\"sk-container-id-1\" class=\"sk-top-container\"><div class=\"sk-text-repr-fallback\"><pre>LogisticRegression(C=2.0, max_iter=200, random_state=2)</pre><b>In a Jupyter environment, please rerun this cell to show the HTML representation or trust the notebook. <br />On GitHub, the HTML representation is unable to render, please try loading this page with nbviewer.org.</b></div><div class=\"sk-container\" hidden><div class=\"sk-item\"><div class=\"sk-estimator sk-toggleable\"><input class=\"sk-toggleable__control sk-hidden--visually\" id=\"sk-estimator-id-1\" type=\"checkbox\" checked><label for=\"sk-estimator-id-1\" class=\"sk-toggleable__label sk-toggleable__label-arrow\">LogisticRegression</label><div class=\"sk-toggleable__content\"><pre>LogisticRegression(C=2.0, max_iter=200, random_state=2)</pre></div></div></div></div></div>"
      ],
      "text/plain": [
       "LogisticRegression(C=2.0, max_iter=200, random_state=2)"
      ]
     },
     "execution_count": 59,
     "metadata": {},
     "output_type": "execute_result"
    }
   ],
   "source": [
    "model=LogisticRegression()\n",
    "model.fit(x_train,y_train)\n",
    "LogisticRegression(C=2.0,max_iter=200,random_state=2)"
   ]
  },
  {
   "cell_type": "code",
   "execution_count": 60,
   "id": "seeing-neighborhood",
   "metadata": {
    "execution": {
     "iopub.execute_input": "2021-06-21T05:16:31.939378Z",
     "iopub.status.busy": "2021-06-21T05:16:31.938378Z",
     "iopub.status.idle": "2021-06-21T05:16:31.944050Z",
     "shell.execute_reply": "2021-06-21T05:16:31.943351Z",
     "shell.execute_reply.started": "2021-06-21T05:15:00.427094Z"
    },
    "papermill": {
     "duration": 0.125931,
     "end_time": "2021-06-21T05:16:31.944217",
     "exception": false,
     "start_time": "2021-06-21T05:16:31.818286",
     "status": "completed"
    },
    "tags": []
   },
   "outputs": [
    {
     "data": {
      "text/plain": [
       "0.6702702702702703"
      ]
     },
     "execution_count": 60,
     "metadata": {},
     "output_type": "execute_result"
    }
   ],
   "source": [
    "y_pred=model.predict(x_test)\n",
    "accuracy_score(y_test,y_pred)"
   ]
  },
  {
   "cell_type": "code",
   "execution_count": 61,
   "id": "stretch-scanner",
   "metadata": {
    "execution": {
     "iopub.execute_input": "2021-06-21T05:16:32.179235Z",
     "iopub.status.busy": "2021-06-21T05:16:32.178367Z",
     "iopub.status.idle": "2021-06-21T05:16:32.181386Z",
     "shell.execute_reply": "2021-06-21T05:16:32.181838Z",
     "shell.execute_reply.started": "2021-06-21T05:15:00.438738Z"
    },
    "papermill": {
     "duration": 0.127291,
     "end_time": "2021-06-21T05:16:32.182055",
     "exception": false,
     "start_time": "2021-06-21T05:16:32.054764",
     "status": "completed"
    },
    "tags": []
   },
   "outputs": [],
   "source": [
    "pred_test=model.predict(df1)"
   ]
  },
  {
   "cell_type": "code",
   "execution_count": 62,
   "id": "signal-depression",
   "metadata": {
    "execution": {
     "iopub.execute_input": "2021-06-21T05:16:33.080955Z",
     "iopub.status.busy": "2021-06-21T05:16:33.079974Z",
     "iopub.status.idle": "2021-06-21T05:16:33.086327Z",
     "shell.execute_reply": "2021-06-21T05:16:33.085682Z",
     "shell.execute_reply.started": "2021-06-21T05:15:00.452188Z"
    },
    "papermill": {
     "duration": 0.126742,
     "end_time": "2021-06-21T05:16:33.086480",
     "exception": false,
     "start_time": "2021-06-21T05:16:32.959738",
     "status": "completed"
    },
    "tags": []
   },
   "outputs": [],
   "source": [
    "final=pd.DataFrame({\"Loan_ID\":test_original[\"Loan_ID\"],\"Loan_Status\":pred_test})"
   ]
  },
  {
   "cell_type": "code",
   "execution_count": 63,
   "id": "failing-portugal",
   "metadata": {
    "execution": {
     "iopub.execute_input": "2021-06-21T05:16:33.319556Z",
     "iopub.status.busy": "2021-06-21T05:16:33.318874Z",
     "iopub.status.idle": "2021-06-21T05:16:33.321982Z",
     "shell.execute_reply": "2021-06-21T05:16:33.322532Z",
     "shell.execute_reply.started": "2021-06-21T05:15:00.468547Z"
    },
    "papermill": {
     "duration": 0.124364,
     "end_time": "2021-06-21T05:16:33.322724",
     "exception": false,
     "start_time": "2021-06-21T05:16:33.198360",
     "status": "completed"
    },
    "tags": []
   },
   "outputs": [
    {
     "data": {
      "text/html": [
       "<div>\n",
       "<style scoped>\n",
       "    .dataframe tbody tr th:only-of-type {\n",
       "        vertical-align: middle;\n",
       "    }\n",
       "\n",
       "    .dataframe tbody tr th {\n",
       "        vertical-align: top;\n",
       "    }\n",
       "\n",
       "    .dataframe thead th {\n",
       "        text-align: right;\n",
       "    }\n",
       "</style>\n",
       "<table border=\"1\" class=\"dataframe\">\n",
       "  <thead>\n",
       "    <tr style=\"text-align: right;\">\n",
       "      <th></th>\n",
       "      <th>Loan_ID</th>\n",
       "      <th>Loan_Status</th>\n",
       "    </tr>\n",
       "  </thead>\n",
       "  <tbody>\n",
       "    <tr>\n",
       "      <th>0</th>\n",
       "      <td>LP001015</td>\n",
       "      <td>1</td>\n",
       "    </tr>\n",
       "    <tr>\n",
       "      <th>1</th>\n",
       "      <td>LP001022</td>\n",
       "      <td>1</td>\n",
       "    </tr>\n",
       "    <tr>\n",
       "      <th>2</th>\n",
       "      <td>LP001031</td>\n",
       "      <td>1</td>\n",
       "    </tr>\n",
       "    <tr>\n",
       "      <th>3</th>\n",
       "      <td>LP001035</td>\n",
       "      <td>1</td>\n",
       "    </tr>\n",
       "    <tr>\n",
       "      <th>4</th>\n",
       "      <td>LP001051</td>\n",
       "      <td>1</td>\n",
       "    </tr>\n",
       "    <tr>\n",
       "      <th>...</th>\n",
       "      <td>...</td>\n",
       "      <td>...</td>\n",
       "    </tr>\n",
       "    <tr>\n",
       "      <th>362</th>\n",
       "      <td>LP002971</td>\n",
       "      <td>1</td>\n",
       "    </tr>\n",
       "    <tr>\n",
       "      <th>363</th>\n",
       "      <td>LP002975</td>\n",
       "      <td>1</td>\n",
       "    </tr>\n",
       "    <tr>\n",
       "      <th>364</th>\n",
       "      <td>LP002980</td>\n",
       "      <td>1</td>\n",
       "    </tr>\n",
       "    <tr>\n",
       "      <th>365</th>\n",
       "      <td>LP002986</td>\n",
       "      <td>1</td>\n",
       "    </tr>\n",
       "    <tr>\n",
       "      <th>366</th>\n",
       "      <td>LP002989</td>\n",
       "      <td>1</td>\n",
       "    </tr>\n",
       "  </tbody>\n",
       "</table>\n",
       "<p>367 rows × 2 columns</p>\n",
       "</div>"
      ],
      "text/plain": [
       "      Loan_ID  Loan_Status\n",
       "0    LP001015            1\n",
       "1    LP001022            1\n",
       "2    LP001031            1\n",
       "3    LP001035            1\n",
       "4    LP001051            1\n",
       "..        ...          ...\n",
       "362  LP002971            1\n",
       "363  LP002975            1\n",
       "364  LP002980            1\n",
       "365  LP002986            1\n",
       "366  LP002989            1\n",
       "\n",
       "[367 rows x 2 columns]"
      ]
     },
     "execution_count": 63,
     "metadata": {},
     "output_type": "execute_result"
    }
   ],
   "source": [
    "final"
   ]
  },
  {
   "cell_type": "code",
   "execution_count": 64,
   "id": "center-essay",
   "metadata": {
    "execution": {
     "iopub.execute_input": "2021-06-21T05:16:33.552517Z",
     "iopub.status.busy": "2021-06-21T05:16:33.551863Z",
     "iopub.status.idle": "2021-06-21T05:16:33.558263Z",
     "shell.execute_reply": "2021-06-21T05:16:33.558845Z",
     "shell.execute_reply.started": "2021-06-21T05:15:00.489023Z"
    },
    "papermill": {
     "duration": 0.122565,
     "end_time": "2021-06-21T05:16:33.559028",
     "exception": false,
     "start_time": "2021-06-21T05:16:33.436463",
     "status": "completed"
    },
    "tags": []
   },
   "outputs": [],
   "source": [
    "final[\"Loan_Status\"].replace(0,\"N\",inplace=True)\n",
    "final[\"Loan_Status\"].replace(1,\"Y\",inplace=True)"
   ]
  },
  {
   "cell_type": "code",
   "execution_count": 65,
   "id": "fiscal-superior",
   "metadata": {
    "execution": {
     "iopub.execute_input": "2021-06-21T05:16:33.792769Z",
     "iopub.status.busy": "2021-06-21T05:16:33.792087Z",
     "iopub.status.idle": "2021-06-21T05:16:33.804848Z",
     "shell.execute_reply": "2021-06-21T05:16:33.805424Z",
     "shell.execute_reply.started": "2021-06-21T05:15:00.506423Z"
    },
    "papermill": {
     "duration": 0.131033,
     "end_time": "2021-06-21T05:16:33.805637",
     "exception": false,
     "start_time": "2021-06-21T05:16:33.674604",
     "status": "completed"
    },
    "tags": []
   },
   "outputs": [
    {
     "data": {
      "text/html": [
       "<div>\n",
       "<style scoped>\n",
       "    .dataframe tbody tr th:only-of-type {\n",
       "        vertical-align: middle;\n",
       "    }\n",
       "\n",
       "    .dataframe tbody tr th {\n",
       "        vertical-align: top;\n",
       "    }\n",
       "\n",
       "    .dataframe thead th {\n",
       "        text-align: right;\n",
       "    }\n",
       "</style>\n",
       "<table border=\"1\" class=\"dataframe\">\n",
       "  <thead>\n",
       "    <tr style=\"text-align: right;\">\n",
       "      <th></th>\n",
       "      <th>Loan_ID</th>\n",
       "      <th>Loan_Status</th>\n",
       "    </tr>\n",
       "  </thead>\n",
       "  <tbody>\n",
       "    <tr>\n",
       "      <th>0</th>\n",
       "      <td>LP001015</td>\n",
       "      <td>Y</td>\n",
       "    </tr>\n",
       "    <tr>\n",
       "      <th>1</th>\n",
       "      <td>LP001022</td>\n",
       "      <td>Y</td>\n",
       "    </tr>\n",
       "    <tr>\n",
       "      <th>2</th>\n",
       "      <td>LP001031</td>\n",
       "      <td>Y</td>\n",
       "    </tr>\n",
       "    <tr>\n",
       "      <th>3</th>\n",
       "      <td>LP001035</td>\n",
       "      <td>Y</td>\n",
       "    </tr>\n",
       "    <tr>\n",
       "      <th>4</th>\n",
       "      <td>LP001051</td>\n",
       "      <td>Y</td>\n",
       "    </tr>\n",
       "    <tr>\n",
       "      <th>...</th>\n",
       "      <td>...</td>\n",
       "      <td>...</td>\n",
       "    </tr>\n",
       "    <tr>\n",
       "      <th>362</th>\n",
       "      <td>LP002971</td>\n",
       "      <td>Y</td>\n",
       "    </tr>\n",
       "    <tr>\n",
       "      <th>363</th>\n",
       "      <td>LP002975</td>\n",
       "      <td>Y</td>\n",
       "    </tr>\n",
       "    <tr>\n",
       "      <th>364</th>\n",
       "      <td>LP002980</td>\n",
       "      <td>Y</td>\n",
       "    </tr>\n",
       "    <tr>\n",
       "      <th>365</th>\n",
       "      <td>LP002986</td>\n",
       "      <td>Y</td>\n",
       "    </tr>\n",
       "    <tr>\n",
       "      <th>366</th>\n",
       "      <td>LP002989</td>\n",
       "      <td>Y</td>\n",
       "    </tr>\n",
       "  </tbody>\n",
       "</table>\n",
       "<p>367 rows × 2 columns</p>\n",
       "</div>"
      ],
      "text/plain": [
       "      Loan_ID Loan_Status\n",
       "0    LP001015           Y\n",
       "1    LP001022           Y\n",
       "2    LP001031           Y\n",
       "3    LP001035           Y\n",
       "4    LP001051           Y\n",
       "..        ...         ...\n",
       "362  LP002971           Y\n",
       "363  LP002975           Y\n",
       "364  LP002980           Y\n",
       "365  LP002986           Y\n",
       "366  LP002989           Y\n",
       "\n",
       "[367 rows x 2 columns]"
      ]
     },
     "execution_count": 65,
     "metadata": {},
     "output_type": "execute_result"
    }
   ],
   "source": [
    "final"
   ]
  },
  {
   "cell_type": "code",
   "execution_count": 66,
   "id": "iraqi-audit",
   "metadata": {
    "papermill": {
     "duration": 0.112899,
     "end_time": "2021-06-21T05:16:42.566933",
     "exception": false,
     "start_time": "2021-06-21T05:16:42.454034",
     "status": "completed"
    },
    "tags": []
   },
   "outputs": [
    {
     "name": "stdout",
     "output_type": "stream",
     "text": [
      "Time taken to run: 10.195337057113647 seconds\n"
     ]
    }
   ],
   "source": [
    "print(f'Time taken to run: {time() - start} seconds')"
   ]
  }
 ],
 "metadata": {
  "kernelspec": {
   "display_name": "Python 3.10.4 64-bit",
   "language": "python",
   "name": "python3"
  },
  "language_info": {
   "codemirror_mode": {
    "name": "ipython",
    "version": 3
   },
   "file_extension": ".py",
   "mimetype": "text/x-python",
   "name": "python",
   "nbconvert_exporter": "python",
   "pygments_lexer": "ipython3",
   "version": "3.10.4"
  },
  "papermill": {
   "default_parameters": {},
   "duration": 39.436082,
   "end_time": "2021-06-21T05:16:43.690221",
   "environment_variables": {},
   "exception": null,
   "input_path": "__notebook__.ipynb",
   "output_path": "__notebook__.ipynb",
   "parameters": {},
   "start_time": "2021-06-21T05:16:04.254139",
   "version": "2.3.2"
  },
  "vscode": {
   "interpreter": {
    "hash": "b06eedd581dc100c78cf59afb2864e27a92de6e601d069d54df605813c483f4a"
   }
  }
 },
 "nbformat": 4,
 "nbformat_minor": 5
}
